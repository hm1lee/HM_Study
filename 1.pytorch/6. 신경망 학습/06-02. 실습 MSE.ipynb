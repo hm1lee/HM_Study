{
 "cells": [
  {
   "cell_type": "markdown",
   "id": "651cf00a",
   "metadata": {},
   "source": [
    "## Mean Square Error (MSE) Loss"
   ]
  },
  {
   "cell_type": "code",
   "execution_count": 1,
   "id": "c9bff785",
   "metadata": {},
   "outputs": [],
   "source": [
    "import torch"
   ]
  },
  {
   "cell_type": "code",
   "execution_count": 2,
   "id": "38a93b51",
   "metadata": {},
   "outputs": [],
   "source": [
    "# function \n",
    "def mse(x_hat, x):\n",
    "    # |x_hat| = {batch_size, dimension}\n",
    "    # |x| = {batch_size, dimension}\n",
    "    \n",
    "    y = ((x - x_hat)**2).mean()\n",
    "    \n",
    "    return y"
   ]
  },
  {
   "cell_type": "code",
   "execution_count": 3,
   "id": "0e2849a5",
   "metadata": {},
   "outputs": [],
   "source": [
    "x = torch.FloatTensor([[1, 1],\n",
    "                      [2, 2]])\n",
    "\n",
    "x_hat = torch.FloatTensor([[0, 0],\n",
    "                          [0, 0]])"
   ]
  },
  {
   "cell_type": "code",
   "execution_count": 4,
   "id": "91d022b5",
   "metadata": {},
   "outputs": [
    {
     "name": "stdout",
     "output_type": "stream",
     "text": [
      "torch.Size([2, 2]) torch.Size([2, 2])\n"
     ]
    }
   ],
   "source": [
    "print(x.size(), x_hat.size())"
   ]
  },
  {
   "cell_type": "code",
   "execution_count": 5,
   "id": "b24ef3ae",
   "metadata": {},
   "outputs": [
    {
     "data": {
      "text/plain": [
       "tensor(2.5000)"
      ]
     },
     "execution_count": 5,
     "metadata": {},
     "output_type": "execute_result"
    }
   ],
   "source": [
    "mse(x_hat, x)"
   ]
  },
  {
   "cell_type": "markdown",
   "id": "ec479459",
   "metadata": {},
   "source": [
    "## Predefined MSE in Pytorch"
   ]
  },
  {
   "cell_type": "markdown",
   "id": "a99b861d",
   "metadata": {},
   "source": [
    "1) 위의 함수를 구현해놓은 관점"
   ]
  },
  {
   "cell_type": "code",
   "execution_count": 20,
   "id": "031dec9d",
   "metadata": {},
   "outputs": [
    {
     "data": {
      "text/plain": [
       "tensor(2.5000)"
      ]
     },
     "execution_count": 20,
     "metadata": {},
     "output_type": "execute_result"
    }
   ],
   "source": [
    "import torch.nn.functional as F\n",
    "\n",
    "#reduction's default = 'mean' -> 더하고 / n 모두 포함\n",
    "F.mse_loss(x_hat, x)"
   ]
  },
  {
   "cell_type": "code",
   "execution_count": 16,
   "id": "3fd8144c",
   "metadata": {
    "scrolled": true
   },
   "outputs": [
    {
     "data": {
      "text/plain": [
       "tensor(10.)"
      ]
     },
     "execution_count": 16,
     "metadata": {},
     "output_type": "execute_result"
    }
   ],
   "source": [
    "F.mse_loss(x_hat, x, reduction='sum')"
   ]
  },
  {
   "cell_type": "code",
   "execution_count": 17,
   "id": "bba43712",
   "metadata": {},
   "outputs": [
    {
     "data": {
      "text/plain": [
       "tensor([[1., 1.],\n",
       "        [4., 4.]])"
      ]
     },
     "execution_count": 17,
     "metadata": {},
     "output_type": "execute_result"
    }
   ],
   "source": [
    "#차원 축소를 안하겠다라는 의미\n",
    "\n",
    "F.mse_loss(x_hat, x, reduction='none')"
   ]
  },
  {
   "cell_type": "markdown",
   "id": "c803cf37",
   "metadata": {},
   "source": [
    "2) 객체를 구현해놓은 관점"
   ]
  },
  {
   "cell_type": "code",
   "execution_count": 21,
   "id": "7c816e2a",
   "metadata": {},
   "outputs": [
    {
     "data": {
      "text/plain": [
       "tensor(2.5000)"
      ]
     },
     "execution_count": 21,
     "metadata": {},
     "output_type": "execute_result"
    }
   ],
   "source": [
    "import torch.nn as nn\n",
    "\n",
    "mse_loss = nn.MSELoss()\n",
    "\n",
    "mse_loss(x_hat, x)"
   ]
  },
  {
   "cell_type": "code",
   "execution_count": null,
   "id": "4bf87a30",
   "metadata": {},
   "outputs": [],
   "source": []
  }
 ],
 "metadata": {
  "kernelspec": {
   "display_name": "Python 3",
   "language": "python",
   "name": "python3"
  },
  "language_info": {
   "codemirror_mode": {
    "name": "ipython",
    "version": 3
   },
   "file_extension": ".py",
   "mimetype": "text/x-python",
   "name": "python",
   "nbconvert_exporter": "python",
   "pygments_lexer": "ipython3",
   "version": "3.8.8"
  }
 },
 "nbformat": 4,
 "nbformat_minor": 5
}
