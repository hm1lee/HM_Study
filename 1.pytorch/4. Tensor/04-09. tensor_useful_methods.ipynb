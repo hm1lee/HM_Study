{
 "cells": [
  {
   "cell_type": "markdown",
   "id": "8981a2ff",
   "metadata": {},
   "source": [
    "### Pytorch Useful Methods"
   ]
  },
  {
   "cell_type": "code",
   "execution_count": 2,
   "id": "e76fc452",
   "metadata": {},
   "outputs": [],
   "source": [
    "import torch"
   ]
  },
  {
   "cell_type": "markdown",
   "id": "01b4c945",
   "metadata": {},
   "source": [
    "### expand : copy the given tensor and concat those at desired dimension"
   ]
  },
  {
   "cell_type": "code",
   "execution_count": 3,
   "id": "2668e04b",
   "metadata": {},
   "outputs": [],
   "source": [
    "x = torch.FloatTensor([[[1, 2]],\n",
    "                      [[3, 4]]])"
   ]
  },
  {
   "cell_type": "code",
   "execution_count": 4,
   "id": "171d1b0a",
   "metadata": {},
   "outputs": [
    {
     "name": "stdout",
     "output_type": "stream",
     "text": [
      "torch.Size([2, 1, 2])\n"
     ]
    }
   ],
   "source": [
    "print(x.size())"
   ]
  },
  {
   "cell_type": "code",
   "execution_count": 5,
   "id": "98d3ee4a",
   "metadata": {},
   "outputs": [],
   "source": [
    "y = x.expand(*[2, 3, 2])"
   ]
  },
  {
   "cell_type": "code",
   "execution_count": 6,
   "id": "73b9bdd9",
   "metadata": {},
   "outputs": [
    {
     "name": "stdout",
     "output_type": "stream",
     "text": [
      "tensor([[[1., 2.],\n",
      "         [1., 2.],\n",
      "         [1., 2.]],\n",
      "\n",
      "        [[3., 4.],\n",
      "         [3., 4.],\n",
      "         [3., 4.]]])\n"
     ]
    }
   ],
   "source": [
    "print(y)"
   ]
  },
  {
   "cell_type": "markdown",
   "id": "6761c313",
   "metadata": {},
   "source": [
    "#### Implement expand with cat."
   ]
  },
  {
   "cell_type": "code",
   "execution_count": 7,
   "id": "f19af404",
   "metadata": {
    "scrolled": true
   },
   "outputs": [
    {
     "name": "stdout",
     "output_type": "stream",
     "text": [
      "tensor([[[1., 2.],\n",
      "         [1., 2.],\n",
      "         [1., 2.]],\n",
      "\n",
      "        [[3., 4.],\n",
      "         [3., 4.],\n",
      "         [3., 4.]]])\n",
      "torch.Size([2, 3, 2])\n"
     ]
    }
   ],
   "source": [
    "y = torch.cat([x, x, x], dim=1)              \n",
    "print(y)\n",
    "print(y.size())"
   ]
  },
  {
   "cell_type": "markdown",
   "id": "b79e86d1",
   "metadata": {},
   "source": [
    "### randperm : Random Permutation\n",
    "\n",
    "index_select함수에 indice를 넣어서, shuffling을 수행한다."
   ]
  },
  {
   "cell_type": "code",
   "execution_count": 8,
   "id": "604beac2",
   "metadata": {},
   "outputs": [
    {
     "name": "stdout",
     "output_type": "stream",
     "text": [
      "tensor([9, 2, 8, 7, 6, 3, 0, 5, 1, 4])\n",
      "torch.Size([10])\n"
     ]
    }
   ],
   "source": [
    "x = torch.randperm(10) #임의의 순열을 생성해내기\n",
    "\n",
    "print(x)\n",
    "print(x.size())"
   ]
  },
  {
   "cell_type": "markdown",
   "id": "7ae3fcb2",
   "metadata": {},
   "source": [
    "### argmax : Return index of maximum values\n",
    "값의 최대를 만드는 '인덱스'를 return"
   ]
  },
  {
   "cell_type": "code",
   "execution_count": 9,
   "id": "607c4909",
   "metadata": {},
   "outputs": [
    {
     "name": "stdout",
     "output_type": "stream",
     "text": [
      "tensor([[[17, 15, 10],\n",
      "         [ 4,  9, 26],\n",
      "         [ 1, 13, 19]],\n",
      "\n",
      "        [[11, 22, 20],\n",
      "         [14,  5, 21],\n",
      "         [16,  7,  0]],\n",
      "\n",
      "        [[ 8,  6, 23],\n",
      "         [ 2,  3, 18],\n",
      "         [24, 25, 12]]])\n",
      "torch.Size([3, 3, 3])\n"
     ]
    }
   ],
   "source": [
    "x = torch.randperm(3**3).reshape(3, 3, -1)\n",
    "\n",
    "print(x)\n",
    "print(x.size())"
   ]
  },
  {
   "cell_type": "code",
   "execution_count": 11,
   "id": "562a8c14",
   "metadata": {},
   "outputs": [
    {
     "name": "stdout",
     "output_type": "stream",
     "text": [
      "tensor([[0, 2, 2],\n",
      "        [1, 2, 0],\n",
      "        [2, 2, 1]])\n",
      "torch.Size([3, 3])\n"
     ]
    }
   ],
   "source": [
    "# 차원이 -1에 해당하는 인덱스 중 가장 큰 값의 인덱스\n",
    "y = x.argmax(dim=-1)\n",
    "\n",
    "print(y)\n",
    "\n",
    "# 차원이 축소됨을 확인할 수 있음\n",
    "print(y.size())"
   ]
  },
  {
   "cell_type": "markdown",
   "id": "8a4ec752",
   "metadata": {},
   "source": [
    "### topk : Return tuple of top-k values and indices\n",
    "최고의 '값'과 '인덱스' 모두를 리턴 / 추출할 때 차원이 살아있음"
   ]
  },
  {
   "cell_type": "code",
   "execution_count": 19,
   "id": "de3db2d9",
   "metadata": {},
   "outputs": [
    {
     "name": "stdout",
     "output_type": "stream",
     "text": [
      "torch.Size([3, 3, 1])\n",
      "torch.Size([3, 3, 1])\n"
     ]
    }
   ],
   "source": [
    "values, indices = torch.topk(x, k=1, dim=-1)\n",
    "\n",
    "print(values.size())\n",
    "print(indices.size())"
   ]
  },
  {
   "cell_type": "markdown",
   "id": "f924baa1",
   "metadata": {},
   "source": [
    "Note that topk didn't reduce the dimension, even in k=1 case"
   ]
  },
  {
   "cell_type": "code",
   "execution_count": 20,
   "id": "561ea548",
   "metadata": {},
   "outputs": [
    {
     "name": "stdout",
     "output_type": "stream",
     "text": [
      "tensor([[24, 25, 23],\n",
      "        [15,  8, 20],\n",
      "        [16, 21, 26]])\n",
      "tensor([[0, 0, 2],\n",
      "        [1, 2, 2],\n",
      "        [1, 0, 1]])\n"
     ]
    }
   ],
   "source": [
    "print(values.squeeze(-1))\n",
    "print(indices.squeeze(-1))"
   ]
  },
  {
   "cell_type": "code",
   "execution_count": 21,
   "id": "4f8ce5cc",
   "metadata": {},
   "outputs": [
    {
     "name": "stdout",
     "output_type": "stream",
     "text": [
      "tensor([[True, True, True],\n",
      "        [True, True, True],\n",
      "        [True, True, True]])\n"
     ]
    }
   ],
   "source": [
    "print(x.argmax(dim=-1) == indices.squeeze(-1))"
   ]
  },
  {
   "cell_type": "code",
   "execution_count": 14,
   "id": "6343561c",
   "metadata": {},
   "outputs": [
    {
     "name": "stdout",
     "output_type": "stream",
     "text": [
      "torch.Size([3, 3, 2])\n",
      "tensor([[True, True, True],\n",
      "        [True, True, True],\n",
      "        [True, True, True]])\n"
     ]
    }
   ],
   "source": [
    "_, indices = torch.topk(x, k=2, dim=-1)\n",
    "\n",
    "print(indices.size())\n",
    "print(x.argmax(dim=-1) == indices[:, :, 0])"
   ]
  },
  {
   "cell_type": "markdown",
   "id": "0c1c0b9b",
   "metadata": {},
   "source": [
    "### Sort by using topk\n"
   ]
  },
  {
   "cell_type": "code",
   "execution_count": 16,
   "id": "32c056fb",
   "metadata": {},
   "outputs": [
    {
     "name": "stdout",
     "output_type": "stream",
     "text": [
      "tensor([[[17, 15, 10],\n",
      "         [26,  9,  4],\n",
      "         [19, 13,  1]],\n",
      "\n",
      "        [[22, 20, 11],\n",
      "         [21, 14,  5],\n",
      "         [16,  7,  0]],\n",
      "\n",
      "        [[23,  8,  6],\n",
      "         [18,  3,  2],\n",
      "         [25, 24, 12]]])\n"
     ]
    }
   ],
   "source": [
    "target_dim = -1\n",
    "values, indices = torch.topk(x, k=x.size(target_dim), largest = True)\n",
    "print(values)"
   ]
  },
  {
   "cell_type": "markdown",
   "id": "e9ac686c",
   "metadata": {},
   "source": [
    "### Topk by using sort"
   ]
  },
  {
   "cell_type": "code",
   "execution_count": 17,
   "id": "7f392030",
   "metadata": {},
   "outputs": [
    {
     "name": "stdout",
     "output_type": "stream",
     "text": [
      "tensor([[17, 26, 19],\n",
      "        [22, 21, 16],\n",
      "        [23, 18, 25]])\n",
      "tensor([[0, 2, 2],\n",
      "        [1, 2, 0],\n",
      "        [2, 2, 1]])\n"
     ]
    }
   ],
   "source": [
    "k=1\n",
    "values, indices = torch.sort(x, dim=-1, descending = True)\n",
    "values, indices = values[:, :, :k], indices[:, :, :k]\n",
    "\n",
    "print(values.squeeze(-1))\n",
    "print(indices.squeeze(-1))"
   ]
  },
  {
   "cell_type": "markdown",
   "id": "38074e1a",
   "metadata": {},
   "source": [
    "### Masked_fill : fill the value if element of mask is True\n",
    "\n",
    "- 마스킹이 된 곳에 채워넣기"
   ]
  },
  {
   "cell_type": "code",
   "execution_count": 18,
   "id": "90a0e284",
   "metadata": {},
   "outputs": [],
   "source": [
    "x = torch.FloatTensor([i  for i in range (3**2)]).reshape(3, -1)"
   ]
  },
  {
   "cell_type": "code",
   "execution_count": 20,
   "id": "e38a1dda",
   "metadata": {},
   "outputs": [
    {
     "name": "stdout",
     "output_type": "stream",
     "text": [
      "tensor([[0., 1., 2.],\n",
      "        [3., 4., 5.],\n",
      "        [6., 7., 8.]])\n",
      "torch.Size([3, 3])\n"
     ]
    }
   ],
   "source": [
    "print(x)\n",
    "print(x.size())"
   ]
  },
  {
   "cell_type": "code",
   "execution_count": 23,
   "id": "10a1e816",
   "metadata": {},
   "outputs": [
    {
     "name": "stdout",
     "output_type": "stream",
     "text": [
      "tensor([[False, False, False],\n",
      "        [False, False,  True],\n",
      "        [ True,  True,  True]])\n"
     ]
    }
   ],
   "source": [
    "# over 4 is true\n",
    "mask = x > 4\n",
    "print(mask)"
   ]
  },
  {
   "cell_type": "code",
   "execution_count": 27,
   "id": "b80dd13e",
   "metadata": {},
   "outputs": [
    {
     "name": "stdout",
     "output_type": "stream",
     "text": [
      "tensor([[ 0.,  1.,  2.],\n",
      "        [ 3.,  4., -1.],\n",
      "        [-1., -1., -1.]])\n"
     ]
    }
   ],
   "source": [
    "# mask is true, fill '-1'\n",
    "y = x.masked_fill(mask, value = -1)\n",
    "\n",
    "print(y)"
   ]
  },
  {
   "cell_type": "markdown",
   "id": "de98a1ac",
   "metadata": {},
   "source": [
    "### Ones and Zeros"
   ]
  },
  {
   "cell_type": "code",
   "execution_count": 29,
   "id": "f939b549",
   "metadata": {},
   "outputs": [
    {
     "name": "stdout",
     "output_type": "stream",
     "text": [
      "tensor([[1., 1., 1.],\n",
      "        [1., 1., 1.]])\n",
      "tensor([[0., 0., 0.],\n",
      "        [0., 0., 0.]])\n"
     ]
    }
   ],
   "source": [
    "# 0/1 tensor 만들고 싶을 때 사용\n",
    "print(torch.ones(2, 3))\n",
    "print(torch.zeros(2, 3))"
   ]
  },
  {
   "cell_type": "code",
   "execution_count": 30,
   "id": "3879baf0",
   "metadata": {},
   "outputs": [
    {
     "name": "stdout",
     "output_type": "stream",
     "text": [
      "torch.Size([2, 3])\n"
     ]
    }
   ],
   "source": [
    "# 연산하기 위해서 타입과 디바이스를 같게 하기\n",
    "\n",
    "x = torch.FloatTensor([[1, 2, 3],\n",
    "                      [4, 5, 6]])\n",
    "\n",
    "print(x.size())"
   ]
  },
  {
   "cell_type": "code",
   "execution_count": 32,
   "id": "6c679f90",
   "metadata": {},
   "outputs": [
    {
     "name": "stdout",
     "output_type": "stream",
     "text": [
      "tensor([[1., 1., 1.],\n",
      "        [1., 1., 1.]])\n",
      "tensor([[0., 0., 0.],\n",
      "        [0., 0., 0.]])\n"
     ]
    }
   ],
   "source": [
    "print(torch.ones_like(x))\n",
    "print(torch.zeros_like(x))"
   ]
  },
  {
   "cell_type": "code",
   "execution_count": null,
   "id": "8b611481",
   "metadata": {},
   "outputs": [],
   "source": []
  }
 ],
 "metadata": {
  "kernelspec": {
   "display_name": "Python 3",
   "language": "python",
   "name": "python3"
  },
  "language_info": {
   "codemirror_mode": {
    "name": "ipython",
    "version": 3
   },
   "file_extension": ".py",
   "mimetype": "text/x-python",
   "name": "python",
   "nbconvert_exporter": "python",
   "pygments_lexer": "ipython3",
   "version": "3.8.8"
  }
 },
 "nbformat": 4,
 "nbformat_minor": 5
}
