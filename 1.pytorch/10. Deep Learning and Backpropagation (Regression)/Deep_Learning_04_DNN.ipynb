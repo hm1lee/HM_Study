{
  "nbformat": 4,
  "nbformat_minor": 0,
  "metadata": {
    "colab": {
      "name": "Deep Learning - 04. DNN.ipynb",
      "provenance": []
    },
    "kernelspec": {
      "name": "python3",
      "display_name": "Python 3"
    },
    "language_info": {
      "name": "python"
    }
  },
  "cells": [
    {
      "cell_type": "markdown",
      "metadata": {
        "id": "y6AZJb1Gr3ga"
      },
      "source": [
        "## Regression using Deep Neural Networks\n",
        "\n",
        "* Load Dataset From Sklearn\n"
      ]
    },
    {
      "cell_type": "code",
      "metadata": {
        "colab": {
          "base_uri": "https://localhost:8080/"
        },
        "id": "c7dqCS7ortya",
        "outputId": "b3a12878-4734-4f93-82e6-1f22560bc07c"
      },
      "source": [
        "!pip install sklearn"
      ],
      "execution_count": 1,
      "outputs": [
        {
          "output_type": "stream",
          "text": [
            "Requirement already satisfied: sklearn in /usr/local/lib/python3.7/dist-packages (0.0)\n",
            "Requirement already satisfied: scikit-learn in /usr/local/lib/python3.7/dist-packages (from sklearn) (0.22.2.post1)\n",
            "Requirement already satisfied: numpy>=1.11.0 in /usr/local/lib/python3.7/dist-packages (from scikit-learn->sklearn) (1.19.5)\n",
            "Requirement already satisfied: scipy>=0.17.0 in /usr/local/lib/python3.7/dist-packages (from scikit-learn->sklearn) (1.4.1)\n",
            "Requirement already satisfied: joblib>=0.11 in /usr/local/lib/python3.7/dist-packages (from scikit-learn->sklearn) (1.0.1)\n"
          ],
          "name": "stdout"
        }
      ]
    },
    {
      "cell_type": "code",
      "metadata": {
        "id": "Wu2ja-_4sAJV"
      },
      "source": [
        "import pandas as pd\n",
        "import seaborn as sns\n",
        "import matplotlib.pyplot as plt\n",
        "\n",
        "from sklearn.preprocessing import StandardScaler"
      ],
      "execution_count": 2,
      "outputs": []
    },
    {
      "cell_type": "code",
      "metadata": {
        "id": "WHtPB2hbsNvd"
      },
      "source": [
        "from sklearn.datasets import load_boston\n",
        "boston = load_boston()"
      ],
      "execution_count": 3,
      "outputs": []
    },
    {
      "cell_type": "code",
      "metadata": {
        "colab": {
          "base_uri": "https://localhost:8080/",
          "height": 216
        },
        "id": "MAxJ4IB6sWrQ",
        "outputId": "f9b40fbf-d507-4d48-cea6-5a2e762d356a"
      },
      "source": [
        "df = pd.DataFrame(boston.data, columns=boston.feature_names)\n",
        "df['TARGET'] = boston.target\n",
        "df.tail()"
      ],
      "execution_count": 4,
      "outputs": [
        {
          "output_type": "execute_result",
          "data": {
            "text/html": [
              "<div>\n",
              "<style scoped>\n",
              "    .dataframe tbody tr th:only-of-type {\n",
              "        vertical-align: middle;\n",
              "    }\n",
              "\n",
              "    .dataframe tbody tr th {\n",
              "        vertical-align: top;\n",
              "    }\n",
              "\n",
              "    .dataframe thead th {\n",
              "        text-align: right;\n",
              "    }\n",
              "</style>\n",
              "<table border=\"1\" class=\"dataframe\">\n",
              "  <thead>\n",
              "    <tr style=\"text-align: right;\">\n",
              "      <th></th>\n",
              "      <th>CRIM</th>\n",
              "      <th>ZN</th>\n",
              "      <th>INDUS</th>\n",
              "      <th>CHAS</th>\n",
              "      <th>NOX</th>\n",
              "      <th>RM</th>\n",
              "      <th>AGE</th>\n",
              "      <th>DIS</th>\n",
              "      <th>RAD</th>\n",
              "      <th>TAX</th>\n",
              "      <th>PTRATIO</th>\n",
              "      <th>B</th>\n",
              "      <th>LSTAT</th>\n",
              "      <th>TARGET</th>\n",
              "    </tr>\n",
              "  </thead>\n",
              "  <tbody>\n",
              "    <tr>\n",
              "      <th>501</th>\n",
              "      <td>0.06263</td>\n",
              "      <td>0.0</td>\n",
              "      <td>11.93</td>\n",
              "      <td>0.0</td>\n",
              "      <td>0.573</td>\n",
              "      <td>6.593</td>\n",
              "      <td>69.1</td>\n",
              "      <td>2.4786</td>\n",
              "      <td>1.0</td>\n",
              "      <td>273.0</td>\n",
              "      <td>21.0</td>\n",
              "      <td>391.99</td>\n",
              "      <td>9.67</td>\n",
              "      <td>22.4</td>\n",
              "    </tr>\n",
              "    <tr>\n",
              "      <th>502</th>\n",
              "      <td>0.04527</td>\n",
              "      <td>0.0</td>\n",
              "      <td>11.93</td>\n",
              "      <td>0.0</td>\n",
              "      <td>0.573</td>\n",
              "      <td>6.120</td>\n",
              "      <td>76.7</td>\n",
              "      <td>2.2875</td>\n",
              "      <td>1.0</td>\n",
              "      <td>273.0</td>\n",
              "      <td>21.0</td>\n",
              "      <td>396.90</td>\n",
              "      <td>9.08</td>\n",
              "      <td>20.6</td>\n",
              "    </tr>\n",
              "    <tr>\n",
              "      <th>503</th>\n",
              "      <td>0.06076</td>\n",
              "      <td>0.0</td>\n",
              "      <td>11.93</td>\n",
              "      <td>0.0</td>\n",
              "      <td>0.573</td>\n",
              "      <td>6.976</td>\n",
              "      <td>91.0</td>\n",
              "      <td>2.1675</td>\n",
              "      <td>1.0</td>\n",
              "      <td>273.0</td>\n",
              "      <td>21.0</td>\n",
              "      <td>396.90</td>\n",
              "      <td>5.64</td>\n",
              "      <td>23.9</td>\n",
              "    </tr>\n",
              "    <tr>\n",
              "      <th>504</th>\n",
              "      <td>0.10959</td>\n",
              "      <td>0.0</td>\n",
              "      <td>11.93</td>\n",
              "      <td>0.0</td>\n",
              "      <td>0.573</td>\n",
              "      <td>6.794</td>\n",
              "      <td>89.3</td>\n",
              "      <td>2.3889</td>\n",
              "      <td>1.0</td>\n",
              "      <td>273.0</td>\n",
              "      <td>21.0</td>\n",
              "      <td>393.45</td>\n",
              "      <td>6.48</td>\n",
              "      <td>22.0</td>\n",
              "    </tr>\n",
              "    <tr>\n",
              "      <th>505</th>\n",
              "      <td>0.04741</td>\n",
              "      <td>0.0</td>\n",
              "      <td>11.93</td>\n",
              "      <td>0.0</td>\n",
              "      <td>0.573</td>\n",
              "      <td>6.030</td>\n",
              "      <td>80.8</td>\n",
              "      <td>2.5050</td>\n",
              "      <td>1.0</td>\n",
              "      <td>273.0</td>\n",
              "      <td>21.0</td>\n",
              "      <td>396.90</td>\n",
              "      <td>7.88</td>\n",
              "      <td>11.9</td>\n",
              "    </tr>\n",
              "  </tbody>\n",
              "</table>\n",
              "</div>"
            ],
            "text/plain": [
              "        CRIM   ZN  INDUS  CHAS    NOX  ...    TAX  PTRATIO       B  LSTAT  TARGET\n",
              "501  0.06263  0.0  11.93   0.0  0.573  ...  273.0     21.0  391.99   9.67    22.4\n",
              "502  0.04527  0.0  11.93   0.0  0.573  ...  273.0     21.0  396.90   9.08    20.6\n",
              "503  0.06076  0.0  11.93   0.0  0.573  ...  273.0     21.0  396.90   5.64    23.9\n",
              "504  0.10959  0.0  11.93   0.0  0.573  ...  273.0     21.0  393.45   6.48    22.0\n",
              "505  0.04741  0.0  11.93   0.0  0.573  ...  273.0     21.0  396.90   7.88    11.9\n",
              "\n",
              "[5 rows x 14 columns]"
            ]
          },
          "metadata": {},
          "execution_count": 4
        }
      ]
    },
    {
      "cell_type": "markdown",
      "metadata": {
        "id": "Wt6C4uX5slGP"
      },
      "source": [
        "* 지난시간 Linear Regression에서는 seaborn으로 특정 데이터만 콜라 머신러닝을 돌려보았음\n",
        "\n",
        "* 이번에는 모든 데이터를 preprocessing하여 넣어 taget을 예측할 예정\n",
        "\n",
        "* 입력하는 feature의 각 컬럼의 범위가 각각 다름 -> 해결 : 범위를 정규화"
      ]
    },
    {
      "cell_type": "code",
      "metadata": {
        "colab": {
          "base_uri": "https://localhost:8080/",
          "height": 216
        },
        "id": "59nGEQEWseyB",
        "outputId": "9490c3a2-963a-4693-8048-41f3dadb6c37"
      },
      "source": [
        "scaler = StandardScaler()\n",
        "scaler.fit(df.values[:, :-1])\n",
        "df.values[:,:-1] = scaler.transform(df.values[:,:-1])\n",
        "\n",
        "df.tail()"
      ],
      "execution_count": 5,
      "outputs": [
        {
          "output_type": "execute_result",
          "data": {
            "text/html": [
              "<div>\n",
              "<style scoped>\n",
              "    .dataframe tbody tr th:only-of-type {\n",
              "        vertical-align: middle;\n",
              "    }\n",
              "\n",
              "    .dataframe tbody tr th {\n",
              "        vertical-align: top;\n",
              "    }\n",
              "\n",
              "    .dataframe thead th {\n",
              "        text-align: right;\n",
              "    }\n",
              "</style>\n",
              "<table border=\"1\" class=\"dataframe\">\n",
              "  <thead>\n",
              "    <tr style=\"text-align: right;\">\n",
              "      <th></th>\n",
              "      <th>CRIM</th>\n",
              "      <th>ZN</th>\n",
              "      <th>INDUS</th>\n",
              "      <th>CHAS</th>\n",
              "      <th>NOX</th>\n",
              "      <th>RM</th>\n",
              "      <th>AGE</th>\n",
              "      <th>DIS</th>\n",
              "      <th>RAD</th>\n",
              "      <th>TAX</th>\n",
              "      <th>PTRATIO</th>\n",
              "      <th>B</th>\n",
              "      <th>LSTAT</th>\n",
              "      <th>TARGET</th>\n",
              "    </tr>\n",
              "  </thead>\n",
              "  <tbody>\n",
              "    <tr>\n",
              "      <th>501</th>\n",
              "      <td>-0.413229</td>\n",
              "      <td>-0.487722</td>\n",
              "      <td>0.115738</td>\n",
              "      <td>-0.272599</td>\n",
              "      <td>0.158124</td>\n",
              "      <td>0.439316</td>\n",
              "      <td>0.018673</td>\n",
              "      <td>-0.625796</td>\n",
              "      <td>-0.982843</td>\n",
              "      <td>-0.803212</td>\n",
              "      <td>1.176466</td>\n",
              "      <td>0.387217</td>\n",
              "      <td>-0.418147</td>\n",
              "      <td>22.4</td>\n",
              "    </tr>\n",
              "    <tr>\n",
              "      <th>502</th>\n",
              "      <td>-0.415249</td>\n",
              "      <td>-0.487722</td>\n",
              "      <td>0.115738</td>\n",
              "      <td>-0.272599</td>\n",
              "      <td>0.158124</td>\n",
              "      <td>-0.234548</td>\n",
              "      <td>0.288933</td>\n",
              "      <td>-0.716639</td>\n",
              "      <td>-0.982843</td>\n",
              "      <td>-0.803212</td>\n",
              "      <td>1.176466</td>\n",
              "      <td>0.441052</td>\n",
              "      <td>-0.500850</td>\n",
              "      <td>20.6</td>\n",
              "    </tr>\n",
              "    <tr>\n",
              "      <th>503</th>\n",
              "      <td>-0.413447</td>\n",
              "      <td>-0.487722</td>\n",
              "      <td>0.115738</td>\n",
              "      <td>-0.272599</td>\n",
              "      <td>0.158124</td>\n",
              "      <td>0.984960</td>\n",
              "      <td>0.797449</td>\n",
              "      <td>-0.773684</td>\n",
              "      <td>-0.982843</td>\n",
              "      <td>-0.803212</td>\n",
              "      <td>1.176466</td>\n",
              "      <td>0.441052</td>\n",
              "      <td>-0.983048</td>\n",
              "      <td>23.9</td>\n",
              "    </tr>\n",
              "    <tr>\n",
              "      <th>504</th>\n",
              "      <td>-0.407764</td>\n",
              "      <td>-0.487722</td>\n",
              "      <td>0.115738</td>\n",
              "      <td>-0.272599</td>\n",
              "      <td>0.158124</td>\n",
              "      <td>0.725672</td>\n",
              "      <td>0.736996</td>\n",
              "      <td>-0.668437</td>\n",
              "      <td>-0.982843</td>\n",
              "      <td>-0.803212</td>\n",
              "      <td>1.176466</td>\n",
              "      <td>0.403225</td>\n",
              "      <td>-0.865302</td>\n",
              "      <td>22.0</td>\n",
              "    </tr>\n",
              "    <tr>\n",
              "      <th>505</th>\n",
              "      <td>-0.415000</td>\n",
              "      <td>-0.487722</td>\n",
              "      <td>0.115738</td>\n",
              "      <td>-0.272599</td>\n",
              "      <td>0.158124</td>\n",
              "      <td>-0.362767</td>\n",
              "      <td>0.434732</td>\n",
              "      <td>-0.613246</td>\n",
              "      <td>-0.982843</td>\n",
              "      <td>-0.803212</td>\n",
              "      <td>1.176466</td>\n",
              "      <td>0.441052</td>\n",
              "      <td>-0.669058</td>\n",
              "      <td>11.9</td>\n",
              "    </tr>\n",
              "  </tbody>\n",
              "</table>\n",
              "</div>"
            ],
            "text/plain": [
              "         CRIM        ZN     INDUS  ...         B     LSTAT  TARGET\n",
              "501 -0.413229 -0.487722  0.115738  ...  0.387217 -0.418147    22.4\n",
              "502 -0.415249 -0.487722  0.115738  ...  0.441052 -0.500850    20.6\n",
              "503 -0.413447 -0.487722  0.115738  ...  0.441052 -0.983048    23.9\n",
              "504 -0.407764 -0.487722  0.115738  ...  0.403225 -0.865302    22.0\n",
              "505 -0.415000 -0.487722  0.115738  ...  0.441052 -0.669058    11.9\n",
              "\n",
              "[5 rows x 14 columns]"
            ]
          },
          "metadata": {},
          "execution_count": 5
        }
      ]
    },
    {
      "cell_type": "markdown",
      "metadata": {
        "id": "AWM2Un0Pt0VL"
      },
      "source": [
        "### Train Model with Pytorch"
      ]
    },
    {
      "cell_type": "code",
      "metadata": {
        "id": "W9MWKSDmtc3U"
      },
      "source": [
        "import torch\n",
        "import torch.nn as nn\n",
        "import torch.nn.functional as F\n",
        "import torch.optim as optim"
      ],
      "execution_count": 6,
      "outputs": []
    },
    {
      "cell_type": "code",
      "metadata": {
        "id": "tem30hOyt_rb",
        "colab": {
          "base_uri": "https://localhost:8080/"
        },
        "outputId": "aa04cad7-6796-4de2-9fb3-bee62c9e5228"
      },
      "source": [
        "data = torch.from_numpy(df.values).float()\n",
        "data.shape"
      ],
      "execution_count": 7,
      "outputs": [
        {
          "output_type": "execute_result",
          "data": {
            "text/plain": [
              "torch.Size([506, 14])"
            ]
          },
          "metadata": {},
          "execution_count": 7
        }
      ]
    },
    {
      "cell_type": "code",
      "metadata": {
        "colab": {
          "base_uri": "https://localhost:8080/"
        },
        "id": "yGTX-fdVwKCf",
        "outputId": "8e6ab352-22e4-479c-8bb4-92157f981524"
      },
      "source": [
        "y = data[:,-1:]\n",
        "x = data[:,:-1]\n",
        "\n",
        "print(x.shape, y.shape)"
      ],
      "execution_count": 8,
      "outputs": [
        {
          "output_type": "stream",
          "text": [
            "torch.Size([506, 13]) torch.Size([506, 1])\n"
          ],
          "name": "stdout"
        }
      ]
    },
    {
      "cell_type": "code",
      "metadata": {
        "id": "PqOaoeS7wRv_"
      },
      "source": [
        "n_epochs = 100000\n",
        "learning_rate = 1e-4\n",
        "print_interval = 5000"
      ],
      "execution_count": 9,
      "outputs": []
    },
    {
      "cell_type": "markdown",
      "metadata": {
        "id": "be5JHsUDxS-B"
      },
      "source": [
        "![image.png](data:image/png;base64,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)"
      ]
    },
    {
      "cell_type": "markdown",
      "metadata": {
        "id": "DYCaJquXwofW"
      },
      "source": [
        "### Build Models"
      ]
    },
    {
      "cell_type": "markdown",
      "metadata": {
        "id": "nOtMG6J1w2Of"
      },
      "source": [
        "**Build Model using nn.Module**"
      ]
    },
    {
      "cell_type": "code",
      "metadata": {
        "id": "8gG2OHurwno1"
      },
      "source": [
        "relu = nn.ReLU()\n",
        "leaky_relu = nn.LeakyReLU(0.1)"
      ],
      "execution_count": 10,
      "outputs": []
    },
    {
      "cell_type": "code",
      "metadata": {
        "colab": {
          "base_uri": "https://localhost:8080/"
        },
        "id": "_iUykBp8waso",
        "outputId": "a4491974-4360-4834-a78e-eabbf9419587"
      },
      "source": [
        "class MyModel(nn.Module):\n",
        "\n",
        "  def __init__(self, input_dim, output_dim):\n",
        "    self.input_dim = input_dim\n",
        "    self.output_dim = output_dim\n",
        "\n",
        "    super().__init__()\n",
        "\n",
        "    self.linear1 = nn.Linear(input_dim, 3)\n",
        "    self.linear2 = nn.Linear(3,3)\n",
        "    self.linear3 = nn.Linear(3, output_dim)\n",
        "    self.act = nn.ReLU()\n",
        "\n",
        "  def forward(self, x):\n",
        "    # |x| = (batch_size, input_dim) = (506 x 13) \n",
        "    h = self.act(self.linear1(x))\n",
        "    h = self.act(self.linear2(h))\n",
        "    y = self.linear3(h)\n",
        "    # |y| = (batch_size, output_dim) = (506 x 1)\n",
        "    return y\n",
        "\n",
        "model = MyModel(x.size(-1), y.size(-1))\n",
        "\n",
        "model"
      ],
      "execution_count": 14,
      "outputs": [
        {
          "output_type": "execute_result",
          "data": {
            "text/plain": [
              "MyModel(\n",
              "  (linear1): Linear(in_features=13, out_features=3, bias=True)\n",
              "  (linear2): Linear(in_features=3, out_features=3, bias=True)\n",
              "  (linear3): Linear(in_features=3, out_features=1, bias=True)\n",
              "  (act): ReLU()\n",
              ")"
            ]
          },
          "metadata": {},
          "execution_count": 14
        }
      ]
    },
    {
      "cell_type": "code",
      "metadata": {
        "id": "Mv8FplEDxyJO"
      },
      "source": [
        "optimizer = optim.SGD(model.parameters(),\n",
        "                     lr = learning_rate)"
      ],
      "execution_count": 17,
      "outputs": []
    },
    {
      "cell_type": "code",
      "metadata": {
        "colab": {
          "base_uri": "https://localhost:8080/"
        },
        "id": "Fljpw3JlzYL6",
        "outputId": "badf3cc0-f688-44bc-cae3-41b6658327c3"
      },
      "source": [
        "for i in range(n_epochs):\n",
        "  y_hat = model(x)\n",
        "  loss = F.mse_loss(y_hat, y)\n",
        "\n",
        "  optimizer.zero_grad()\n",
        "  loss.backward()\n",
        "\n",
        "  optimizer.step()\n",
        "\n",
        "  if (i+1) % print_interval == 0:\n",
        "    print('Epoch %d: loss=%.4e' % (i+1, loss))"
      ],
      "execution_count": 18,
      "outputs": [
        {
          "output_type": "stream",
          "text": [
            "Epoch 5000: loss=1.2768e+01\n",
            "Epoch 10000: loss=1.1183e+01\n",
            "Epoch 15000: loss=1.0982e+01\n",
            "Epoch 20000: loss=1.0929e+01\n",
            "Epoch 25000: loss=1.0896e+01\n",
            "Epoch 30000: loss=1.0795e+01\n",
            "Epoch 35000: loss=1.0584e+01\n",
            "Epoch 40000: loss=1.0493e+01\n",
            "Epoch 45000: loss=1.0445e+01\n",
            "Epoch 50000: loss=1.0297e+01\n",
            "Epoch 55000: loss=1.0214e+01\n",
            "Epoch 60000: loss=1.0093e+01\n",
            "Epoch 65000: loss=9.9590e+00\n",
            "Epoch 70000: loss=9.8966e+00\n",
            "Epoch 75000: loss=9.8556e+00\n",
            "Epoch 80000: loss=9.8308e+00\n",
            "Epoch 85000: loss=9.7941e+00\n",
            "Epoch 90000: loss=9.7409e+00\n",
            "Epoch 95000: loss=9.7165e+00\n",
            "Epoch 100000: loss=9.6946e+00\n"
          ],
          "name": "stdout"
        }
      ]
    },
    {
      "cell_type": "markdown",
      "metadata": {
        "id": "BfigmaZt012F"
      },
      "source": [
        "### Let's see the result !"
      ]
    },
    {
      "cell_type": "code",
      "metadata": {
        "colab": {
          "base_uri": "https://localhost:8080/",
          "height": 701
        },
        "id": "HBvX8MG4zwyj",
        "outputId": "bedd68bf-2c91-4a79-c68e-b50d1f7204dd"
      },
      "source": [
        "df = pd.DataFrame(torch.cat([y, y_hat], dim = 1).detach().numpy(),\n",
        "                  columns=[\"y\",\"y_hat\"])\n",
        "\n",
        "sns.pairplot(df, size=5)\n",
        "plt.show()"
      ],
      "execution_count": 21,
      "outputs": [
        {
          "output_type": "stream",
          "text": [
            "/usr/local/lib/python3.7/dist-packages/seaborn/axisgrid.py:1969: UserWarning: The `size` parameter has been renamed to `height`; please update your code.\n",
            "  warnings.warn(msg, UserWarning)\n"
          ],
          "name": "stderr"
        },
        {
          "output_type": "display_data",
          "data": {
            "image/png": "[encoded data removed]",
            "text/plain": [
              "<Figure size 720x720 with 6 Axes>"
            ]
          },
          "metadata": {
            "needs_background": "light"
          }
        }
      ]
    },
    {
      "cell_type": "code",
      "metadata": {
        "id": "Q2pjDITG1E83"
      },
      "source": [
        ""
      ],
      "execution_count": null,
      "outputs": []
    },
    {
      "cell_type": "code",
      "metadata": {
        "id": "ZqI61KEF1lV3"
      },
      "source": [
        ""
      ],
      "execution_count": null,
      "outputs": []
    }
  ]
}