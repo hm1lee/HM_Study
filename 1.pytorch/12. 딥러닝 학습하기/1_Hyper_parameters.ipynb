{
  "nbformat": 4,
  "nbformat_minor": 0,
  "metadata": {
    "colab": {
      "name": "1. Hyper-parameters.ipynb",
      "provenance": []
    },
    "kernelspec": {
      "name": "python3",
      "display_name": "Python 3"
    },
    "language_info": {
      "name": "python"
    }
  },
  "cells": [
    {
      "cell_type": "markdown",
      "metadata": {
        "id": "dVeDLZYZggp8"
      },
      "source": [
        "## 1. Hyper-parameters?\n",
        "\n",
        "#### vs Model Parameters? \n",
        "*  모델 내부의 설정 값으로, 데이터에 의해서 값이 정해짐 - 학습에 의해서 변경\n",
        "*  딥러닝에서는 Network Weight Parameter라고 불리우기도 함\n",
        "\n",
        "#### Hyper-parameters?\n",
        "* 모델 외부의 설정 값으로, 사용자에 의해서 결정됨\n",
        "* 모델의 성능을 좌우할 수 있음\n",
        "* 데이터나 상황에 따라서 최적의 값이 다르므로, 보통 Heuristic한 방법에 의해서 찾게됨\n",
        "\n"
      ]
    },
    {
      "cell_type": "markdown",
      "metadata": {
        "id": "RObmf7WFhgdV"
      },
      "source": [
        "- - -\n",
        "\n",
        "### Network Depth & Width\n",
        "\n",
        "* 네트워크의 capacity를 결정하는 요소 \n",
        "     - 너무 깊으면 과적합의 원인이 되며, 최적화가 어려움\n",
        "     - 너무 얕으면 복잡한 데이터의 관계나 함수를 배울 수 없음\n",
        "\n",
        "\n",
        "* **Tuning을 통해서 최적의 architecture를 찾아야 함**"
      ]
    },
    {
      "cell_type": "markdown",
      "metadata": {
        "id": "HIfrhJoyiPuw"
      },
      "source": [
        "### Learning Rate\n",
        "\n",
        "* Gradient Descent에서 기울기에 따른 파라미터의 업데이트 양을 조절\n",
        "* 기존의 실습에서 learning rate를 조절해보면 다른 결과가 나오는 것을 알 수 있음\n",
        "* Tuning을 통해서 최적의 learning rate를 찾아야 함"
      ]
    },
    {
      "cell_type": "markdown",
      "metadata": {
        "id": "e1zn_OQbHS9x"
      },
      "source": [
        "### Other Hyper-parameters ..\n",
        "\n",
        "\n",
        "\n",
        "1.   어떤 활성 함수를 사용할 것인가?\n",
        "- Relu? LeakyRelu?\n",
        "- LeakyReLU의 각도는?\n",
        "\n",
        "2.   어떤 초기화 방법을 쓸 것인가?\n",
        "\n",
        "3.    몇번의 epoch을 돌릴 것인가?\n",
        "\n",
        "\n",
        "\n"
      ]
    },
    {
      "cell_type": "markdown",
      "metadata": {
        "id": "BWlRn4aYHoCQ"
      },
      "source": [
        "### Wrap-Up\n",
        "\n",
        "1. Hyper-parameter는 데이터로부터 자동으로 학습할 수 없지만, 모델의 성능에 영향을 끼치는 파라미터를 가리킨다.\n",
        "- 수동으로 튜닝하거나 다양한 실험을 통해서 최적의 값을 찾아야 함\n",
        "- 많은 실무 경험을 통해서, 경험적으로 최적 값과 비슷한 값을 찾을 수도 있음\n",
        "\n",
        "2. 일부 파라미터는 문제 해결 여부가 달려 있을 수도 있음\n",
        "- 하지만 많은 파라미터들은 대개 약간의 성능 변화만 야기하기도 함\n",
        "- critical한 파라미터를 인지하고 주로 튜닝하는 것이 좋음\n",
        "\n",
        "3. 많은 실험이 필요한 만큼, 많고 다양한 실험 결과를 잘 정리하는 것의 요령이 중요!"
      ]
    },
    {
      "cell_type": "markdown",
      "metadata": {
        "id": "L5d8GaX5KB6d"
      },
      "source": [
        "- - -"
      ]
    },
    {
      "cell_type": "markdown",
      "metadata": {
        "id": "p7W158PuKC0q"
      },
      "source": [
        "### 2.  TIP : 효율적인 실험 방법"
      ]
    },
    {
      "cell_type": "markdown",
      "metadata": {
        "id": "nF1mS9lYKSvV"
      },
      "source": [
        "#### 실험은 Baseline 구축부터\n",
        "\n",
        "1. 실험하는 과정에서 선택의 갈림길이 많을 것이다. 따라서 베이스라인은 가장 단순하고 쉬운 것에서 시작하기.\n",
        "\n",
        "2. 어떤 것이 부족한지 확인해보기 (데이터수, 모델, 레이블링 오류 등등...)\n",
        "\n",
        "3. 문제점 가설을 세우고 실험을 설계하기\n",
        "\n",
        "4. 실험을 거쳐 새로운 baseline을 세우면서 조금씩 정상에 도달하기(목표하는 값)\n",
        "\n",
        "\n",
        "#### Hyper-parameter 별 결과물 관리\n",
        "\n",
        "\n",
        "1. 수많은 튜닝 결과는 어떻게 관리할 것인가?\n",
        "  - 각 hyper-parameter 별 성능(accuracy, loss등), 실험 마다 나오는 모델(weight) 파일\n",
        "\n",
        "2. 가장 간단한 방법 : 모델 파일 이름 저장\n",
        "  - model.n_layers-10.n_ephochs-100.act-leaky_relu.loss-xxx.accuracy-xx.pth\n",
        "  - 결국은 Table로 정리가 필요하다.\n",
        "\n",
        "3. 실험 관리를 도와주는 프레임워크\n",
        "  - MLFlow : http://mlflow.org (https://zzsza.github.io/mlops/2019/01/16/mlflow-basic/) \n",
        "  - WanDB : https://wandb.com/"
      ]
    },
    {
      "cell_type": "markdown",
      "metadata": {
        "id": "0qvGh4hLNVPh"
      },
      "source": [
        "- - -"
      ]
    },
    {
      "cell_type": "code",
      "metadata": {
        "id": "DZl0vIlygflk"
      },
      "source": [
        ""
      ],
      "execution_count": null,
      "outputs": []
    }
  ]
}