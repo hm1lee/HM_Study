{
 "cells": [
  {
   "cell_type": "markdown",
   "id": "e4665271",
   "metadata": {},
   "source": [
    "## 1) Linear Layer"
   ]
  },
  {
   "cell_type": "code",
   "execution_count": 1,
   "id": "5dc9e998",
   "metadata": {},
   "outputs": [],
   "source": [
    "import torch"
   ]
  },
  {
   "attachments": {
    "%E1%84%89%E1%85%B3%E1%84%8F%E1%85%B3%E1%84%85%E1%85%B5%E1%86%AB%E1%84%89%E1%85%A3%E1%86%BA%202021-07-18%20%E1%84%8B%E1%85%A9%E1%84%92%E1%85%AE%209.32.28.png": {
     "image/png": "[encoded data removed]"
    }
   },
   "cell_type": "markdown",
   "id": "50529cfd",
   "metadata": {},
   "source": [
    "![%E1%84%89%E1%85%B3%E1%84%8F%E1%85%B3%E1%84%85%E1%85%B5%E1%86%AB%E1%84%89%E1%85%A3%E1%86%BA%202021-07-18%20%E1%84%8B%E1%85%A9%E1%84%92%E1%85%AE%209.32.28.png](attachment:%E1%84%89%E1%85%B3%E1%84%8F%E1%85%B3%E1%84%85%E1%85%B5%E1%86%AB%E1%84%89%E1%85%A3%E1%86%BA%202021-07-18%20%E1%84%8B%E1%85%A9%E1%84%92%E1%85%AE%209.32.28.png)"
   ]
  },
  {
   "cell_type": "markdown",
   "id": "f7f3ea56",
   "metadata": {},
   "source": [
    "### Raw Linear Layer"
   ]
  },
  {
   "cell_type": "code",
   "execution_count": 5,
   "id": "ecb88db0",
   "metadata": {},
   "outputs": [],
   "source": [
    "# random 초기화가 되면 된다. -> 우리는 임의로 값을 넣어준다.\n",
    "\n",
    "W = torch.FloatTensor([[1, 2],\n",
    "                      [3, 4],\n",
    "                      [5, 6]])\n",
    "\n",
    "b = torch.FloatTensor([2, 2])"
   ]
  },
  {
   "cell_type": "code",
   "execution_count": 6,
   "id": "e769823d",
   "metadata": {},
   "outputs": [
    {
     "name": "stdout",
     "output_type": "stream",
     "text": [
      "torch.Size([3, 2])\n",
      "torch.Size([2])\n"
     ]
    }
   ],
   "source": [
    "print(W.size())\n",
    "print(b.size())"
   ]
  },
  {
   "cell_type": "markdown",
   "id": "3f0bef05",
   "metadata": {},
   "source": [
    "n=3, m=2 임을 확인할 수 있다."
   ]
  },
  {
   "cell_type": "code",
   "execution_count": 11,
   "id": "79ee745c",
   "metadata": {},
   "outputs": [],
   "source": [
    "# |x| = (N, n) |w| = (n, m) |x,w| = (N,m)\n",
    "\n",
    "def linear(x, W, b):\n",
    "    y = torch.matmul(x,W) + b\n",
    "    \n",
    "    return y"
   ]
  },
  {
   "cell_type": "code",
   "execution_count": 13,
   "id": "4e960510",
   "metadata": {},
   "outputs": [
    {
     "name": "stdout",
     "output_type": "stream",
     "text": [
      "torch.Size([4, 3])\n"
     ]
    }
   ],
   "source": [
    "# x값 선언 \n",
    "# |x| = (4,3)\n",
    "\n",
    "x = torch.FloatTensor([[1, 1, 1],\n",
    "                      [2, 2, 2],\n",
    "                      [3, 3, 3],\n",
    "                      [4, 4, 4]])\n",
    "\n",
    "print(x.size())"
   ]
  },
  {
   "cell_type": "code",
   "execution_count": 15,
   "id": "19bd56c3",
   "metadata": {},
   "outputs": [
    {
     "name": "stdout",
     "output_type": "stream",
     "text": [
      "tensor([[11., 14.],\n",
      "        [20., 26.],\n",
      "        [29., 38.],\n",
      "        [38., 50.]])\n",
      "torch.Size([4, 2])\n"
     ]
    }
   ],
   "source": [
    "# 함수에 넣어서 y값 및 사이즈 출력\n",
    "\n",
    "y = linear(x, W, b)\n",
    "\n",
    "print(y)\n",
    "print(y.size())"
   ]
  },
  {
   "cell_type": "markdown",
   "id": "9f299926",
   "metadata": {},
   "source": [
    "## 2) nn.Module (추상 클래스)\n"
   ]
  },
  {
   "cell_type": "code",
   "execution_count": 18,
   "id": "4a0a478b",
   "metadata": {},
   "outputs": [],
   "source": [
    "# 앞으로, 배울 뉴럴넷은 이 추상 클래스를 상속받을 것이다.\n",
    "# 2가지가 중요 ( __init__ , forward 함수)\n",
    "\n",
    "# 1) __init__ : forward에서 사용할 필요한 것들을 설정하고 선언\n",
    "# 2) forward : 함수의 지지고 볶는(?) 과정을 정의하는 것"
   ]
  },
  {
   "cell_type": "code",
   "execution_count": 19,
   "id": "e13987a4",
   "metadata": {},
   "outputs": [],
   "source": [
    "import torch.nn as nn"
   ]
  },
  {
   "cell_type": "code",
   "execution_count": 20,
   "id": "1f0087de",
   "metadata": {},
   "outputs": [],
   "source": [
    "class MyLinear(nn.Module):   #nn.Module을 상속했다\n",
    "    \n",
    "    def __init__ (self, input_dim=3, output_dim=2): \n",
    "        \n",
    "        #self로 객체 저장\n",
    "        self.input_dim = input_dim\n",
    "        self.output_dim = output_dim\n",
    "        \n",
    "        #상위 메서드 생성자 호출\n",
    "        super().__init__()\n",
    "        \n",
    "        self.W = torch.FloatTensor(input_dim, output_dim)\n",
    "        self.b = torch.FloatTensor(output_dim)\n",
    "        \n",
    "        \n",
    "    def forward(self, x):\n",
    "        \n",
    "        y = torch.matmul(x, self.W) + self.b\n",
    "        \n",
    "        return y\n",
    "    "
   ]
  },
  {
   "cell_type": "code",
   "execution_count": 35,
   "id": "69836ec5",
   "metadata": {},
   "outputs": [
    {
     "name": "stdout",
     "output_type": "stream",
     "text": [
      "torch.Size([4, 2])\n"
     ]
    }
   ],
   "source": [
    "linear = MyLinear(3,2)\n",
    "# forward생략하고 파라미터 값만 넣음 된다.\n",
    "y = linear(x) \n",
    "\n",
    "print(y.size())"
   ]
  },
  {
   "cell_type": "code",
   "execution_count": 26,
   "id": "10277aee",
   "metadata": {},
   "outputs": [],
   "source": [
    "#.parameters()하면 트레이너러블한 데이터 출력\n",
    "for p in linear.parameters():\n",
    "    print(p)"
   ]
  },
  {
   "cell_type": "markdown",
   "id": "d1fef07c",
   "metadata": {},
   "source": [
    "## 3) Correct way : nn.Parameter\n",
    "\n",
    "- 위에서 짠 코드는 틀린 코드 -> linear.parameters()를 했을 때 나오는 결과물이 없음\n",
    "- 정확하게 짜기 위해서는? nn.Parameter로 랩핑해주어야 한다!"
   ]
  },
  {
   "cell_type": "code",
   "execution_count": 29,
   "id": "d7fcfd60",
   "metadata": {},
   "outputs": [],
   "source": [
    "class MyLinear(nn.Module):\n",
    "    \n",
    "    def __init__(self, input_dim = 3, output_dim = 2):\n",
    "        self.input_dim = input_dim\n",
    "        self.output_dim = output_dim\n",
    "        \n",
    "        super().__init__()\n",
    "        \n",
    "        #nn.Parameter add하면 제대로 등록된다.\n",
    "        self.W = nn.Parameter(torch.FloatTensor(input_dim, output_dim))\n",
    "        self.b = nn.Parameter(torch.FloatTensor(output_dim))\n",
    "        \n",
    "    def forward(self, x):\n",
    "        # |x| = (batch_size, input_dim)\n",
    "        y = torch.matmul(x, self.W) + self.b\n",
    "        \n",
    "        # |y| = (batch_size, input_dim) * (input_dim, output_dim)\n",
    "        #     = (batch_size, output_dim)\n",
    "        \n",
    "        return y"
   ]
  },
  {
   "cell_type": "code",
   "execution_count": 30,
   "id": "8bf10404",
   "metadata": {},
   "outputs": [],
   "source": [
    "linear = MyLinear(3, 2)\n",
    " \n",
    "y = linear(x)"
   ]
  },
  {
   "cell_type": "code",
   "execution_count": 31,
   "id": "f57957ff",
   "metadata": {},
   "outputs": [
    {
     "name": "stdout",
     "output_type": "stream",
     "text": [
      "torch.Size([4, 2])\n"
     ]
    }
   ],
   "source": [
    "print(y.size())"
   ]
  },
  {
   "cell_type": "code",
   "execution_count": 34,
   "id": "9649bc3c",
   "metadata": {},
   "outputs": [
    {
     "name": "stdout",
     "output_type": "stream",
     "text": [
      "Parameter containing:\n",
      "tensor([[1.4013e-45, 1.4013e-45],\n",
      "        [0.0000e+00, 1.4013e-45],\n",
      "        [0.0000e+00, 0.0000e+00]], requires_grad=True)\n",
      "Parameter containing:\n",
      "tensor([2.7252e+26, 3.0851e+32], requires_grad=True)\n"
     ]
    }
   ],
   "source": [
    "for p in linear.parameters():\n",
    "    print(p)\n",
    "    \n",
    "# 위 : self.W / 아래 : self.b"
   ]
  },
  {
   "cell_type": "markdown",
   "id": "26a09803",
   "metadata": {},
   "source": [
    "## 4) nn.linear( )\n",
    "위에서는 노가다(?)로 짜보았지만, 실제로 linear layer를 제공하는 nn.linear()가 있다!"
   ]
  },
  {
   "cell_type": "code",
   "execution_count": 36,
   "id": "ad026579",
   "metadata": {},
   "outputs": [],
   "source": [
    "linear = nn.Linear(3, 2)\n",
    "\n",
    "y = linear(x)"
   ]
  },
  {
   "cell_type": "code",
   "execution_count": 37,
   "id": "6fc4363c",
   "metadata": {},
   "outputs": [
    {
     "name": "stdout",
     "output_type": "stream",
     "text": [
      "torch.Size([4, 2])\n"
     ]
    }
   ],
   "source": [
    "print(y.size())"
   ]
  },
  {
   "cell_type": "code",
   "execution_count": 38,
   "id": "95fab92a",
   "metadata": {
    "scrolled": false
   },
   "outputs": [
    {
     "name": "stdout",
     "output_type": "stream",
     "text": [
      "Parameter containing:\n",
      "tensor([[-0.1177,  0.0468, -0.1315],\n",
      "        [ 0.1859, -0.3147,  0.1367]], requires_grad=True)\n",
      "Parameter containing:\n",
      "tensor([-0.5580, -0.4983], requires_grad=True)\n"
     ]
    }
   ],
   "source": [
    "for p in linear.parameters():\n",
    "    print(p)"
   ]
  },
  {
   "cell_type": "markdown",
   "id": "6fe79a54",
   "metadata": {},
   "source": [
    "실제로 연산시 W^t 상태이기 때문에 출력할 때는 사이즈가 (2, 3)의 형태로 나오게 된다."
   ]
  },
  {
   "cell_type": "markdown",
   "id": "f92917b1",
   "metadata": {},
   "source": [
    "## 5) nn.Module can contain other nn.Module's child classes\n",
    "\n",
    "- nn.Module은 다른 nn.Module을 상속받은 클래스 객체들을 소유할 수 있다."
   ]
  },
  {
   "cell_type": "code",
   "execution_count": 43,
   "id": "0ef0d27c",
   "metadata": {},
   "outputs": [],
   "source": [
    "class MyLinear(nn.Module):\n",
    "    \n",
    "    def __init__(self, input_dim=3, output_dim=2):\n",
    "        self.input_dim = input_dim\n",
    "        self.output_dim = output_dim\n",
    "        \n",
    "        super().__init__()\n",
    "        \n",
    "        self.linear = nn.Linear(input_dim, output_dim)\n",
    "        \n",
    "    def forward(self, x):\n",
    "        # |x| = (batch_size, input_dim)\n",
    "        y = self.linear(x)\n",
    "        # |y| = (batch_size, output_dim)\n",
    "        \n",
    "        return y"
   ]
  },
  {
   "cell_type": "code",
   "execution_count": 44,
   "id": "47f00b91",
   "metadata": {},
   "outputs": [],
   "source": [
    "linear = MyLinear(3, 2)\n",
    "\n",
    "y = linear(x)"
   ]
  },
  {
   "cell_type": "code",
   "execution_count": 45,
   "id": "ddee5e9f",
   "metadata": {},
   "outputs": [
    {
     "name": "stdout",
     "output_type": "stream",
     "text": [
      "torch.Size([4, 2])\n"
     ]
    }
   ],
   "source": [
    "print(y.size())"
   ]
  },
  {
   "cell_type": "code",
   "execution_count": 46,
   "id": "d8efbd24",
   "metadata": {},
   "outputs": [
    {
     "name": "stdout",
     "output_type": "stream",
     "text": [
      "Parameter containing:\n",
      "tensor([[ 0.5053,  0.0558, -0.3771],\n",
      "        [ 0.4728, -0.4592, -0.1841]], requires_grad=True)\n",
      "Parameter containing:\n",
      "tensor([0.3037, 0.2989], requires_grad=True)\n"
     ]
    }
   ],
   "source": [
    "for p in linear.parameters():\n",
    "    print(p)"
   ]
  },
  {
   "cell_type": "code",
   "execution_count": null,
   "id": "ddc10e51",
   "metadata": {},
   "outputs": [],
   "source": []
  }
 ],
 "metadata": {
  "kernelspec": {
   "display_name": "Python 3",
   "language": "python",
   "name": "python3"
  },
  "language_info": {
   "codemirror_mode": {
    "name": "ipython",
    "version": 3
   },
   "file_extension": ".py",
   "mimetype": "text/x-python",
   "name": "python",
   "nbconvert_exporter": "python",
   "pygments_lexer": "ipython3",
   "version": "3.8.8"
  }
 },
 "nbformat": 4,
 "nbformat_minor": 5
}
