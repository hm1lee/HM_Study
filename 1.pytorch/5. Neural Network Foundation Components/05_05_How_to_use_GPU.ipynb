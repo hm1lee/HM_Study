{
  "nbformat": 4,
  "nbformat_minor": 0,
  "metadata": {
    "colab": {
      "name": "04-05. How to use GPU.ipynb",
      "provenance": []
    },
    "kernelspec": {
      "name": "python3",
      "display_name": "Python 3"
    },
    "language_info": {
      "name": "python"
    },
    "accelerator": "GPU"
  },
  "cells": [
    {
      "cell_type": "markdown",
      "metadata": {
        "id": "IXzFSEZtcdJ9"
      },
      "source": [
        "### 1. 파이썬 버전 체크"
      ]
    },
    {
      "cell_type": "code",
      "metadata": {
        "colab": {
          "base_uri": "https://localhost:8080/"
        },
        "id": "7g48lHF0aB6P",
        "outputId": "020e71be-987d-49a3-c3b9-a5b7027057ab"
      },
      "source": [
        "import sys\n",
        "print(sys.version)"
      ],
      "execution_count": 1,
      "outputs": [
        {
          "output_type": "stream",
          "text": [
            "3.7.11 (default, Jul  3 2021, 18:01:19) \n",
            "[GCC 7.5.0]\n"
          ],
          "name": "stdout"
        }
      ]
    },
    {
      "cell_type": "markdown",
      "metadata": {
        "id": "Xc4RCYLjcofe"
      },
      "source": [
        "### 2. torch 설치 및 버전 확인하기"
      ]
    },
    {
      "cell_type": "code",
      "metadata": {
        "colab": {
          "base_uri": "https://localhost:8080/"
        },
        "id": "IzT0rX_majTY",
        "outputId": "1cb53299-b2e8-44dc-e04d-c1e560bc3db0"
      },
      "source": [
        "import torch\n",
        "import torch.nn as nn\n",
        "# !pip3 install torch torchvision\n",
        "\n",
        "print(\"Torch version:{}\".format(torch.__version__))\n",
        "print(\"cuda version: {}\".format(torch.version.cuda))\n",
        "print(\"cudnn version:{}\".format(torch.backends.cudnn.version()))"
      ],
      "execution_count": 2,
      "outputs": [
        {
          "output_type": "stream",
          "text": [
            "Torch version:1.9.0+cu102\n",
            "cuda version: 10.2\n",
            "cudnn version:7605\n"
          ],
          "name": "stdout"
        }
      ]
    },
    {
      "cell_type": "markdown",
      "metadata": {
        "id": "Rjha2fd6cuPx"
      },
      "source": [
        "### 3. Convert to CUDA tensor : cuda()\n",
        "실행 전, 런타임 유형변경 -> 'GPU' dont' forget!!"
      ]
    },
    {
      "cell_type": "code",
      "metadata": {
        "colab": {
          "base_uri": "https://localhost:8080/"
        },
        "id": "6MccEAcPao7A",
        "outputId": "8d4c0222-fd80-4f19-9860-3d2a57bcb8fb"
      },
      "source": [
        "# 1. 바로 텐서에 gpu 선언하기\n",
        "x = torch.cuda.FloatTensor(2, 2)\n",
        "\n",
        "x"
      ],
      "execution_count": 3,
      "outputs": [
        {
          "output_type": "execute_result",
          "data": {
            "text/plain": [
              "tensor([[0., 0.],\n",
              "        [0., 0.]], device='cuda:0')"
            ]
          },
          "metadata": {
            "tags": []
          },
          "execution_count": 3
        }
      ]
    },
    {
      "cell_type": "code",
      "metadata": {
        "id": "BOlHokVabSNi",
        "outputId": "d59fa35f-592d-4650-c616-b35e75ab996c",
        "colab": {
          "base_uri": "https://localhost:8080/"
        }
      },
      "source": [
        "# 2. 텐서 선언하고 gpu로 보내기\n",
        "x = torch.FloatTensor(2, 2)\n",
        "x"
      ],
      "execution_count": 4,
      "outputs": [
        {
          "output_type": "execute_result",
          "data": {
            "text/plain": [
              "tensor([[-2.4954e+20,  3.0735e-41],\n",
              "        [ 0.0000e+00,  0.0000e+00]])"
            ]
          },
          "metadata": {
            "tags": []
          },
          "execution_count": 4
        }
      ]
    },
    {
      "cell_type": "code",
      "metadata": {
        "id": "vOdzNgM_c7qf",
        "outputId": "19f9ba46-c7f9-4e26-fbff-0faf3ab24d55",
        "colab": {
          "base_uri": "https://localhost:8080/"
        }
      },
      "source": [
        "# 아래를 보면 0번 GPU로 갔음을 확인할 수 있음\n",
        "x.cuda()"
      ],
      "execution_count": 6,
      "outputs": [
        {
          "output_type": "execute_result",
          "data": {
            "text/plain": [
              "tensor([[-2.4954e+20,  3.0735e-41],\n",
              "        [ 0.0000e+00,  0.0000e+00]], device='cuda:0')"
            ]
          },
          "metadata": {
            "tags": []
          },
          "execution_count": 6
        }
      ]
    },
    {
      "cell_type": "code",
      "metadata": {
        "id": "PPXVIzThdMOw"
      },
      "source": [
        "# 3. 디바이스 지정해서 보내기\n",
        "d = torch.device('cuda:0')"
      ],
      "execution_count": 9,
      "outputs": []
    },
    {
      "cell_type": "code",
      "metadata": {
        "id": "Wn5RU--QdlkY",
        "outputId": "b053323c-5481-4c1c-e304-a20a84894029",
        "colab": {
          "base_uri": "https://localhost:8080/"
        }
      },
      "source": [
        "# 기존 x는 유지된채 새롭게 복사되어 할당됨\n",
        "x.cuda(device=d)"
      ],
      "execution_count": 11,
      "outputs": [
        {
          "output_type": "execute_result",
          "data": {
            "text/plain": [
              "tensor([[-2.4954e+20,  3.0735e-41],\n",
              "        [ 0.0000e+00,  0.0000e+00]], device='cuda:0')"
            ]
          },
          "metadata": {
            "tags": []
          },
          "execution_count": 11
        }
      ]
    },
    {
      "cell_type": "code",
      "metadata": {
        "id": "ipM1_xHidnd5",
        "outputId": "982a5c47-d3ff-40ae-d9c9-cd0355805f5b",
        "colab": {
          "base_uri": "https://localhost:8080/"
        }
      },
      "source": [
        "# 따라서 기존 x는 'cpu'임을 확인할 수 있음 \n",
        "x.device"
      ],
      "execution_count": 13,
      "outputs": [
        {
          "output_type": "execute_result",
          "data": {
            "text/plain": [
              "device(type='cpu')"
            ]
          },
          "metadata": {
            "tags": []
          },
          "execution_count": 13
        }
      ]
    },
    {
      "cell_type": "markdown",
      "metadata": {
        "id": "3BDmqzWmd7SB"
      },
      "source": [
        "### 4. Convert to CUDA tensor: to ( )\n",
        "\n",
        "x.cuda는 좀 아재스러운 방법.... x.to는 덜 아재스러운 방법"
      ]
    },
    {
      "cell_type": "code",
      "metadata": {
        "id": "36YkljEndwKh",
        "outputId": "dd9069d6-dad3-47d4-babb-ca7bad8164ae",
        "colab": {
          "base_uri": "https://localhost:8080/"
        }
      },
      "source": [
        "x.to(device=d) "
      ],
      "execution_count": 14,
      "outputs": [
        {
          "output_type": "execute_result",
          "data": {
            "text/plain": [
              "tensor([[-2.4954e+20,  3.0735e-41],\n",
              "        [ 0.0000e+00,  0.0000e+00]], device='cuda:0')"
            ]
          },
          "metadata": {
            "tags": []
          },
          "execution_count": 14
        }
      ]
    },
    {
      "cell_type": "markdown",
      "metadata": {
        "id": "-NlTpicMeRRG"
      },
      "source": [
        "### 5. Convert to CPU tensor from CUDA tensor"
      ]
    },
    {
      "cell_type": "code",
      "metadata": {
        "id": "xYs9PctyeM42"
      },
      "source": [
        "# gpu -> cpu\n",
        "\n",
        "x = torch.cuda.FloatTensor(2, 2)\n",
        "x = x.cpu()"
      ],
      "execution_count": 17,
      "outputs": []
    },
    {
      "cell_type": "code",
      "metadata": {
        "id": "KU97Lm-meYV1"
      },
      "source": [
        "d = torch.device('cpu')\n",
        "x = x.to(d)"
      ],
      "execution_count": 18,
      "outputs": []
    },
    {
      "cell_type": "markdown",
      "metadata": {
        "id": "OVgwBWD4eqdd"
      },
      "source": [
        "### 6. Move model from CPU to GPU"
      ]
    },
    {
      "cell_type": "code",
      "metadata": {
        "id": "J_KCGLHPek6G"
      },
      "source": [
        "def print_params(model):\n",
        "  for p in model.parameters():\n",
        "    print(p)"
      ],
      "execution_count": 19,
      "outputs": []
    },
    {
      "cell_type": "code",
      "metadata": {
        "id": "tMMqiBy1hfl3",
        "outputId": "9dee0f44-0336-4dda-c8c1-a351d95e9cdd",
        "colab": {
          "base_uri": "https://localhost:8080/"
        }
      },
      "source": [
        "linear = nn.Linear(3, 2)\n",
        "\n",
        "print_params(linear)"
      ],
      "execution_count": 20,
      "outputs": [
        {
          "output_type": "stream",
          "text": [
            "Parameter containing:\n",
            "tensor([[ 0.4798, -0.4905,  0.2962],\n",
            "        [ 0.2722, -0.5658,  0.2619]], requires_grad=True)\n",
            "Parameter containing:\n",
            "tensor([ 0.3965, -0.5450], requires_grad=True)\n"
          ],
          "name": "stdout"
        }
      ]
    },
    {
      "cell_type": "code",
      "metadata": {
        "id": "id6CXFTShm9M",
        "outputId": "cf1b596d-7b2b-4a8e-dd5d-8fd3b8807618",
        "colab": {
          "base_uri": "https://localhost:8080/"
        }
      },
      "source": [
        "linear = linear.cuda()\n",
        "\n",
        "print_params(linear)"
      ],
      "execution_count": 21,
      "outputs": [
        {
          "output_type": "stream",
          "text": [
            "Parameter containing:\n",
            "tensor([[ 0.4798, -0.4905,  0.2962],\n",
            "        [ 0.2722, -0.5658,  0.2619]], device='cuda:0', requires_grad=True)\n",
            "Parameter containing:\n",
            "tensor([ 0.3965, -0.5450], device='cuda:0', requires_grad=True)\n"
          ],
          "name": "stdout"
        }
      ]
    },
    {
      "cell_type": "code",
      "metadata": {
        "id": "ZqiUo7XxhvgX",
        "outputId": "a283bcb2-4e77-48f5-eb02-056e9632a9bd",
        "colab": {
          "base_uri": "https://localhost:8080/"
        }
      },
      "source": [
        "linear = linear.cpu()\n",
        "print_params(linear)"
      ],
      "execution_count": 22,
      "outputs": [
        {
          "output_type": "stream",
          "text": [
            "Parameter containing:\n",
            "tensor([[ 0.4798, -0.4905,  0.2962],\n",
            "        [ 0.2722, -0.5658,  0.2619]], requires_grad=True)\n",
            "Parameter containing:\n",
            "tensor([ 0.3965, -0.5450], requires_grad=True)\n"
          ],
          "name": "stdout"
        }
      ]
    },
    {
      "cell_type": "code",
      "metadata": {
        "id": "FvJCA0rAh2Hy",
        "outputId": "4cbd53b4-b5d4-4fd1-f248-163a71bab74c",
        "colab": {
          "base_uri": "https://localhost:8080/"
        }
      },
      "source": [
        "d = torch.device('cuda:0')\n",
        "linear = linear.to(d)\n",
        "\n",
        "print_params (linear)"
      ],
      "execution_count": 23,
      "outputs": [
        {
          "output_type": "stream",
          "text": [
            "Parameter containing:\n",
            "tensor([[ 0.4798, -0.4905,  0.2962],\n",
            "        [ 0.2722, -0.5658,  0.2619]], device='cuda:0', requires_grad=True)\n",
            "Parameter containing:\n",
            "tensor([ 0.3965, -0.5450], device='cuda:0', requires_grad=True)\n"
          ],
          "name": "stdout"
        }
      ]
    },
    {
      "cell_type": "code",
      "metadata": {
        "id": "Cr0kCDaoiL1w",
        "outputId": "23db7d09-5475-44a5-86db-a7d7e8b4197b",
        "colab": {
          "base_uri": "https://localhost:8080/",
          "height": 385
        }
      },
      "source": [
        "# error -> 모델은 디바이스라는 메서드를 제공하지 않는다.\n",
        "linear.device"
      ],
      "execution_count": 25,
      "outputs": [
        {
          "output_type": "error",
          "ename": "AttributeError",
          "evalue": "ignored",
          "traceback": [
            "\u001b[0;31m---------------------------------------------------------------------------\u001b[0m",
            "\u001b[0;31mAttributeError\u001b[0m                            Traceback (most recent call last)",
            "\u001b[0;32m<ipython-input-25-57e84fbc4b23>\u001b[0m in \u001b[0;36m<module>\u001b[0;34m()\u001b[0m\n\u001b[1;32m      1\u001b[0m \u001b[0;31m# error -> 모델은 디바이스라는 메서드를 제공하지 않는다.\u001b[0m\u001b[0;34m\u001b[0m\u001b[0;34m\u001b[0m\u001b[0;34m\u001b[0m\u001b[0m\n\u001b[0;32m----> 2\u001b[0;31m \u001b[0mlinear\u001b[0m\u001b[0;34m.\u001b[0m\u001b[0mdevice\u001b[0m\u001b[0;34m\u001b[0m\u001b[0;34m\u001b[0m\u001b[0m\n\u001b[0m",
            "\u001b[0;32m/usr/local/lib/python3.7/dist-packages/torch/nn/modules/module.py\u001b[0m in \u001b[0;36m__getattr__\u001b[0;34m(self, name)\u001b[0m\n\u001b[1;32m   1129\u001b[0m                 \u001b[0;32mreturn\u001b[0m \u001b[0mmodules\u001b[0m\u001b[0;34m[\u001b[0m\u001b[0mname\u001b[0m\u001b[0;34m]\u001b[0m\u001b[0;34m\u001b[0m\u001b[0;34m\u001b[0m\u001b[0m\n\u001b[1;32m   1130\u001b[0m         raise AttributeError(\"'{}' object has no attribute '{}'\".format(\n\u001b[0;32m-> 1131\u001b[0;31m             type(self).__name__, name))\n\u001b[0m\u001b[1;32m   1132\u001b[0m \u001b[0;34m\u001b[0m\u001b[0m\n\u001b[1;32m   1133\u001b[0m     \u001b[0;32mdef\u001b[0m \u001b[0m__setattr__\u001b[0m\u001b[0;34m(\u001b[0m\u001b[0mself\u001b[0m\u001b[0;34m,\u001b[0m \u001b[0mname\u001b[0m\u001b[0;34m:\u001b[0m \u001b[0mstr\u001b[0m\u001b[0;34m,\u001b[0m \u001b[0mvalue\u001b[0m\u001b[0;34m:\u001b[0m \u001b[0mUnion\u001b[0m\u001b[0;34m[\u001b[0m\u001b[0mTensor\u001b[0m\u001b[0;34m,\u001b[0m \u001b[0;34m'Module'\u001b[0m\u001b[0;34m]\u001b[0m\u001b[0;34m)\u001b[0m \u001b[0;34m->\u001b[0m \u001b[0;32mNone\u001b[0m\u001b[0;34m:\u001b[0m\u001b[0;34m\u001b[0m\u001b[0;34m\u001b[0m\u001b[0m\n",
            "\u001b[0;31mAttributeError\u001b[0m: 'Linear' object has no attribute 'device'"
          ]
        }
      ]
    },
    {
      "cell_type": "code",
      "metadata": {
        "id": "XQ72bHftiOEs"
      },
      "source": [
        ""
      ],
      "execution_count": null,
      "outputs": []
    },
    {
      "cell_type": "markdown",
      "metadata": {
        "id": "PYZSr8KWieeE"
      },
      "source": [
        "### 7. Tricks\n",
        "연산하고 싶은데 어떤 디바이스에 있는지 궁금한 경우"
      ]
    },
    {
      "cell_type": "code",
      "metadata": {
        "id": "0K6RPOXeilVL"
      },
      "source": [
        "x = torch.cuda.FloatTensor(2, 2)"
      ],
      "execution_count": 27,
      "outputs": []
    },
    {
      "cell_type": "code",
      "metadata": {
        "id": "N7UAEg_iiqgK",
        "outputId": "c53b8e7a-d309-480c-d010-b305eeaf2cb4",
        "colab": {
          "base_uri": "https://localhost:8080/"
        }
      },
      "source": [
        "#x와 같은 타입이면서 같은 디바이스 형태의 텐서를 만들어줌\n",
        "x.new(2, 2) "
      ],
      "execution_count": 29,
      "outputs": [
        {
          "output_type": "execute_result",
          "data": {
            "text/plain": [
              "tensor([[ 0.3965, -0.5450],\n",
              "        [ 0.2962,  0.2722]], device='cuda:0')"
            ]
          },
          "metadata": {
            "tags": []
          },
          "execution_count": 29
        }
      ]
    },
    {
      "cell_type": "code",
      "metadata": {
        "id": "hPcNd8Kpiujo",
        "outputId": "fa715cc0-7c5e-4ac9-de55-a2780bad11e8",
        "colab": {
          "base_uri": "https://localhost:8080/"
        }
      },
      "source": [
        "torch.zeros_like(x)"
      ],
      "execution_count": 30,
      "outputs": [
        {
          "output_type": "execute_result",
          "data": {
            "text/plain": [
              "tensor([[0., 0.],\n",
              "        [0., 0.]], device='cuda:0')"
            ]
          },
          "metadata": {
            "tags": []
          },
          "execution_count": 30
        }
      ]
    },
    {
      "cell_type": "code",
      "metadata": {
        "id": "BwiW8taNjQVw",
        "outputId": "d6844391-1ed0-49d6-cf5a-d3fb3e32da47",
        "colab": {
          "base_uri": "https://localhost:8080/"
        }
      },
      "source": [
        "torch.ones_like(x)"
      ],
      "execution_count": 31,
      "outputs": [
        {
          "output_type": "execute_result",
          "data": {
            "text/plain": [
              "tensor([[1., 1.],\n",
              "        [1., 1.]], device='cuda:0')"
            ]
          },
          "metadata": {
            "tags": []
          },
          "execution_count": 31
        }
      ]
    },
    {
      "cell_type": "code",
      "metadata": {
        "id": "c5K8IjckjS39",
        "outputId": "a3ebc36c-038c-4324-f609-88077a7f6f0f",
        "colab": {
          "base_uri": "https://localhost:8080/"
        }
      },
      "source": [
        "list(linear.parameters())[0].new(2, 2)"
      ],
      "execution_count": 32,
      "outputs": [
        {
          "output_type": "execute_result",
          "data": {
            "text/plain": [
              "tensor([[1., 1.],\n",
              "        [1., 1.]], device='cuda:0')"
            ]
          },
          "metadata": {
            "tags": []
          },
          "execution_count": 32
        }
      ]
    },
    {
      "cell_type": "code",
      "metadata": {
        "id": "q-SQjdi8jYUh"
      },
      "source": [
        ""
      ],
      "execution_count": null,
      "outputs": []
    }
  ]
}