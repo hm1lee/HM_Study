{
 "cells": [
  {
   "cell_type": "markdown",
   "id": "8a18db96",
   "metadata": {},
   "source": [
    "### Matrix Multiplication"
   ]
  },
  {
   "cell_type": "code",
   "execution_count": 1,
   "id": "3ef0c532",
   "metadata": {},
   "outputs": [],
   "source": [
    "import torch"
   ]
  },
  {
   "cell_type": "code",
   "execution_count": 4,
   "id": "ed76bb60",
   "metadata": {},
   "outputs": [
    {
     "name": "stdout",
     "output_type": "stream",
     "text": [
      "torch.Size([3, 2])\n",
      "torch.Size([2, 2])\n"
     ]
    }
   ],
   "source": [
    "x = torch.FloatTensor([[1, 2],\n",
    "                      [3, 4],\n",
    "                      [5, 6]])\n",
    "\n",
    "y = torch.FloatTensor([[1, 2],\n",
    "                      [1, 2]])\n",
    "\n",
    "\n",
    "print(x.size())\n",
    "print(y.size())"
   ]
  },
  {
   "cell_type": "code",
   "execution_count": 7,
   "id": "b352e028",
   "metadata": {
    "scrolled": true
   },
   "outputs": [
    {
     "name": "stdout",
     "output_type": "stream",
     "text": [
      "torch.Size([3, 2])\n",
      "tensor([[ 3.,  6.],\n",
      "        [ 7., 14.],\n",
      "        [11., 22.]])\n"
     ]
    }
   ],
   "source": [
    "# x X y 연산\n",
    "\n",
    "z = torch.matmul(x, y)\n",
    "print(z.size())\n",
    "print(z)"
   ]
  },
  {
   "cell_type": "markdown",
   "id": "b055a43b",
   "metadata": {},
   "source": [
    "BMM Matirx Multiplicatoin Example"
   ]
  },
  {
   "cell_type": "code",
   "execution_count": 8,
   "id": "2ea2ec1b",
   "metadata": {},
   "outputs": [],
   "source": [
    "x = torch.FloatTensor([[[1, 2],\n",
    "                        [3, 4],\n",
    "                        [5, 6]],\n",
    "                       [[7, 8],\n",
    "                        [9, 10],\n",
    "                        [11, 12]],\n",
    "                       [[13, 14],\n",
    "                        [15, 16],\n",
    "                        [17, 18]]])\n",
    "\n",
    "y = torch.FloatTensor([[[1, 2, 2],\n",
    "                        [1, 2, 2]],\n",
    "                        [[1, 3, 3],\n",
    "                        [1, 3, 3]],\n",
    "                        [[1, 4, 4],\n",
    "                        [1, 4, 4]]])"
   ]
  },
  {
   "cell_type": "code",
   "execution_count": 10,
   "id": "4f8113c4",
   "metadata": {},
   "outputs": [
    {
     "name": "stdout",
     "output_type": "stream",
     "text": [
      "torch.Size([3, 3, 2])\n",
      "torch.Size([3, 2, 3])\n"
     ]
    }
   ],
   "source": [
    "print(x.size())\n",
    "print(y.size())"
   ]
  },
  {
   "cell_type": "code",
   "execution_count": 11,
   "id": "5689ad7e",
   "metadata": {},
   "outputs": [],
   "source": [
    "z = torch.bmm(x, y)"
   ]
  },
  {
   "cell_type": "code",
   "execution_count": 12,
   "id": "325046b6",
   "metadata": {},
   "outputs": [
    {
     "name": "stdout",
     "output_type": "stream",
     "text": [
      "tensor([[[  3.,   6.,   6.],\n",
      "         [  7.,  14.,  14.],\n",
      "         [ 11.,  22.,  22.]],\n",
      "\n",
      "        [[ 15.,  45.,  45.],\n",
      "         [ 19.,  57.,  57.],\n",
      "         [ 23.,  69.,  69.]],\n",
      "\n",
      "        [[ 27., 108., 108.],\n",
      "         [ 31., 124., 124.],\n",
      "         [ 35., 140., 140.]]])\n",
      "torch.Size([3, 3, 3])\n"
     ]
    }
   ],
   "source": [
    "print(z)\n",
    "print(z.size())"
   ]
  },
  {
   "cell_type": "code",
   "execution_count": null,
   "id": "ba4a077d",
   "metadata": {},
   "outputs": [],
   "source": []
  }
 ],
 "metadata": {
  "kernelspec": {
   "display_name": "Python 3",
   "language": "python",
   "name": "python3"
  },
  "language_info": {
   "codemirror_mode": {
    "name": "ipython",
    "version": 3
   },
   "file_extension": ".py",
   "mimetype": "text/x-python",
   "name": "python",
   "nbconvert_exporter": "python",
   "pygments_lexer": "ipython3",
   "version": "3.8.8"
  }
 },
 "nbformat": 4,
 "nbformat_minor": 5
}
