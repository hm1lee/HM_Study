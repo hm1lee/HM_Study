{
  "nbformat": 4,
  "nbformat_minor": 0,
  "metadata": {
    "colab": {
      "name": "1. Adam-califormia-housing-prices.ipynb",
      "provenance": []
    },
    "kernelspec": {
      "name": "python3",
      "display_name": "Python 3"
    },
    "language_info": {
      "name": "python"
    }
  },
  "cells": [
    {
      "cell_type": "markdown",
      "metadata": {
        "id": "OE31T7tu3m-G"
      },
      "source": [
        "## Adam optimizer  - example \n",
        "\n",
        "* Data : housing.csv\n",
        "* The data pertains to the houses found in a given California district and some summary stats about them based on the 1990 census data. \n",
        "\n",
        "* reference : https://www.kaggle.com/camnugent/california-housing-prices?select=housing.csv"
      ]
    },
    {
      "cell_type": "markdown",
      "metadata": {
        "id": "7dMqvRbU4CHq"
      },
      "source": [
        "1. Data load"
      ]
    },
    {
      "cell_type": "code",
      "metadata": {
        "id": "dCmNv9nP3YWc"
      },
      "source": [
        "import pandas as pd\n",
        "import seaborn as sns\n",
        "import matplotlib.pyplot as plt\n",
        "\n",
        "from sklearn.preprocessing import MinMaxScaler"
      ],
      "execution_count": 33,
      "outputs": []
    },
    {
      "cell_type": "code",
      "metadata": {
        "id": "VnbiaQd03uDv"
      },
      "source": [
        "data = pd.read_csv('/content/drive/MyDrive/패스트캠퍼스/딥러닝유치원/housing.csv')"
      ],
      "execution_count": 34,
      "outputs": []
    },
    {
      "cell_type": "code",
      "metadata": {
        "colab": {
          "base_uri": "https://localhost:8080/",
          "height": 224
        },
        "id": "DFZzxu7j3x0r",
        "outputId": "9e64f3f0-dabd-47c1-d7d7-082ddaaa8aaa"
      },
      "source": [
        "data.head()"
      ],
      "execution_count": 35,
      "outputs": [
        {
          "output_type": "execute_result",
          "data": {
            "text/html": [
              "<div>\n",
              "<style scoped>\n",
              "    .dataframe tbody tr th:only-of-type {\n",
              "        vertical-align: middle;\n",
              "    }\n",
              "\n",
              "    .dataframe tbody tr th {\n",
              "        vertical-align: top;\n",
              "    }\n",
              "\n",
              "    .dataframe thead th {\n",
              "        text-align: right;\n",
              "    }\n",
              "</style>\n",
              "<table border=\"1\" class=\"dataframe\">\n",
              "  <thead>\n",
              "    <tr style=\"text-align: right;\">\n",
              "      <th></th>\n",
              "      <th>longitude</th>\n",
              "      <th>latitude</th>\n",
              "      <th>housing_median_age</th>\n",
              "      <th>total_rooms</th>\n",
              "      <th>total_bedrooms</th>\n",
              "      <th>population</th>\n",
              "      <th>households</th>\n",
              "      <th>median_income</th>\n",
              "      <th>median_house_value</th>\n",
              "      <th>ocean_proximity</th>\n",
              "    </tr>\n",
              "  </thead>\n",
              "  <tbody>\n",
              "    <tr>\n",
              "      <th>0</th>\n",
              "      <td>-122.23</td>\n",
              "      <td>37.88</td>\n",
              "      <td>41.0</td>\n",
              "      <td>880.0</td>\n",
              "      <td>129.0</td>\n",
              "      <td>322.0</td>\n",
              "      <td>126.0</td>\n",
              "      <td>8.3252</td>\n",
              "      <td>452600.0</td>\n",
              "      <td>NEAR BAY</td>\n",
              "    </tr>\n",
              "    <tr>\n",
              "      <th>1</th>\n",
              "      <td>-122.22</td>\n",
              "      <td>37.86</td>\n",
              "      <td>21.0</td>\n",
              "      <td>7099.0</td>\n",
              "      <td>1106.0</td>\n",
              "      <td>2401.0</td>\n",
              "      <td>1138.0</td>\n",
              "      <td>8.3014</td>\n",
              "      <td>358500.0</td>\n",
              "      <td>NEAR BAY</td>\n",
              "    </tr>\n",
              "    <tr>\n",
              "      <th>2</th>\n",
              "      <td>-122.24</td>\n",
              "      <td>37.85</td>\n",
              "      <td>52.0</td>\n",
              "      <td>1467.0</td>\n",
              "      <td>190.0</td>\n",
              "      <td>496.0</td>\n",
              "      <td>177.0</td>\n",
              "      <td>7.2574</td>\n",
              "      <td>352100.0</td>\n",
              "      <td>NEAR BAY</td>\n",
              "    </tr>\n",
              "    <tr>\n",
              "      <th>3</th>\n",
              "      <td>-122.25</td>\n",
              "      <td>37.85</td>\n",
              "      <td>52.0</td>\n",
              "      <td>1274.0</td>\n",
              "      <td>235.0</td>\n",
              "      <td>558.0</td>\n",
              "      <td>219.0</td>\n",
              "      <td>5.6431</td>\n",
              "      <td>341300.0</td>\n",
              "      <td>NEAR BAY</td>\n",
              "    </tr>\n",
              "    <tr>\n",
              "      <th>4</th>\n",
              "      <td>-122.25</td>\n",
              "      <td>37.85</td>\n",
              "      <td>52.0</td>\n",
              "      <td>1627.0</td>\n",
              "      <td>280.0</td>\n",
              "      <td>565.0</td>\n",
              "      <td>259.0</td>\n",
              "      <td>3.8462</td>\n",
              "      <td>342200.0</td>\n",
              "      <td>NEAR BAY</td>\n",
              "    </tr>\n",
              "  </tbody>\n",
              "</table>\n",
              "</div>"
            ],
            "text/plain": [
              "   longitude  latitude  ...  median_house_value  ocean_proximity\n",
              "0    -122.23     37.88  ...            452600.0         NEAR BAY\n",
              "1    -122.22     37.86  ...            358500.0         NEAR BAY\n",
              "2    -122.24     37.85  ...            352100.0         NEAR BAY\n",
              "3    -122.25     37.85  ...            341300.0         NEAR BAY\n",
              "4    -122.25     37.85  ...            342200.0         NEAR BAY\n",
              "\n",
              "[5 rows x 10 columns]"
            ]
          },
          "metadata": {},
          "execution_count": 35
        }
      ]
    },
    {
      "cell_type": "code",
      "metadata": {
        "colab": {
          "base_uri": "https://localhost:8080/"
        },
        "id": "nQEbvlRj3zWG",
        "outputId": "388bd2b2-1f44-4efe-a568-27a218796897"
      },
      "source": [
        "data.info()"
      ],
      "execution_count": 36,
      "outputs": [
        {
          "output_type": "stream",
          "name": "stdout",
          "text": [
            "<class 'pandas.core.frame.DataFrame'>\n",
            "RangeIndex: 20640 entries, 0 to 20639\n",
            "Data columns (total 10 columns):\n",
            " #   Column              Non-Null Count  Dtype  \n",
            "---  ------              --------------  -----  \n",
            " 0   longitude           20640 non-null  float64\n",
            " 1   latitude            20640 non-null  float64\n",
            " 2   housing_median_age  20640 non-null  float64\n",
            " 3   total_rooms         20640 non-null  float64\n",
            " 4   total_bedrooms      20433 non-null  float64\n",
            " 5   population          20640 non-null  float64\n",
            " 6   households          20640 non-null  float64\n",
            " 7   median_income       20640 non-null  float64\n",
            " 8   median_house_value  20640 non-null  float64\n",
            " 9   ocean_proximity     20640 non-null  object \n",
            "dtypes: float64(9), object(1)\n",
            "memory usage: 1.6+ MB\n"
          ]
        }
      ]
    },
    {
      "cell_type": "markdown",
      "metadata": {
        "id": "JBb83QjI4BOf"
      },
      "source": [
        "2. 결측치 확인 및 제거\n",
        "\n",
        "\n",
        "```\n",
        "(1) data.info()를 통해, total_bedrooms의 데이터가 결측됨을 확인할 수 있다.\n",
        "\n",
        "(2) 결측된 데이터 처리 방법\n",
        "  -  결측된 데이터가 너무 많은 경우 해당 열 전체 삭제\n",
        "  -  결측된 데이터가 일부일 경우 그럴듯한 값으로 대체하기\n",
        "```\n",
        "\n"
      ]
    },
    {
      "cell_type": "markdown",
      "metadata": {
        "id": "sJ27BIAc745M"
      },
      "source": [
        " - missingno를 사용하여 결측값 위치 시각화로 확인\n"
      ]
    },
    {
      "cell_type": "code",
      "metadata": {
        "colab": {
          "base_uri": "https://localhost:8080/",
          "height": 513
        },
        "id": "JKtdvupo39SQ",
        "outputId": "bf718baa-9493-4672-c73c-004ad298008d"
      },
      "source": [
        "# 결측값 흰색으로 비어있음 \n",
        "import missingno as msno\n",
        "import matplotlib.pyplot as plt\n",
        "%matplotlib inline\n",
        "\n",
        "msno.matrix(data)\n",
        "plt.show()"
      ],
      "execution_count": 37,
      "outputs": [
        {
          "output_type": "display_data",
          "data": {
            "image/png": "[encoded data removed]",
            "text/plain": [
              "<Figure size 1800x720 with 2 Axes>"
            ]
          },
          "metadata": {
            "needs_background": "light"
          }
        }
      ]
    },
    {
      "cell_type": "code",
      "metadata": {
        "colab": {
          "base_uri": "https://localhost:8080/",
          "height": 513
        },
        "id": "qUe-f13_5oAO",
        "outputId": "db034a8d-a5f0-4625-ce0d-3ae14415f980"
      },
      "source": [
        "# 1. 결측된 데이터가 너무 많은 경우 해당 열 전체 삭제\n",
        "data1 = data.dropna()\n",
        "\n",
        "msno.matrix(data1)\n",
        "plt.show()"
      ],
      "execution_count": 38,
      "outputs": [
        {
          "output_type": "display_data",
          "data": {
            "image/png": "[encoded data removed]",
            "text/plain": [
              "<Figure size 1800x720 with 2 Axes>"
            ]
          },
          "metadata": {
            "needs_background": "light"
          }
        }
      ]
    },
    {
      "cell_type": "code",
      "metadata": {
        "colab": {
          "base_uri": "https://localhost:8080/",
          "height": 419
        },
        "id": "RUcHHPVd7LrG",
        "outputId": "95e8c906-8d30-4a22-8b20-77c1fb87cec8"
      },
      "source": [
        "\n",
        "# 2. 결측된 데이터가 일부일 경우 그럴듯한 값으로 대체하기\n",
        "# sklearn.SimpleImputer(mean, median, most_frequent)\n",
        "\n",
        "from sklearn.impute import SimpleImputer\n",
        "\n",
        "imputer = SimpleImputer(strategy  = 'most_frequent')\n",
        "data = pd.DataFrame(imputer.fit_transform(data))\n",
        "data"
      ],
      "execution_count": 39,
      "outputs": [
        {
          "output_type": "execute_result",
          "data": {
            "text/html": [
              "<div>\n",
              "<style scoped>\n",
              "    .dataframe tbody tr th:only-of-type {\n",
              "        vertical-align: middle;\n",
              "    }\n",
              "\n",
              "    .dataframe tbody tr th {\n",
              "        vertical-align: top;\n",
              "    }\n",
              "\n",
              "    .dataframe thead th {\n",
              "        text-align: right;\n",
              "    }\n",
              "</style>\n",
              "<table border=\"1\" class=\"dataframe\">\n",
              "  <thead>\n",
              "    <tr style=\"text-align: right;\">\n",
              "      <th></th>\n",
              "      <th>0</th>\n",
              "      <th>1</th>\n",
              "      <th>2</th>\n",
              "      <th>3</th>\n",
              "      <th>4</th>\n",
              "      <th>5</th>\n",
              "      <th>6</th>\n",
              "      <th>7</th>\n",
              "      <th>8</th>\n",
              "      <th>9</th>\n",
              "    </tr>\n",
              "  </thead>\n",
              "  <tbody>\n",
              "    <tr>\n",
              "      <th>0</th>\n",
              "      <td>-122.23</td>\n",
              "      <td>37.88</td>\n",
              "      <td>41</td>\n",
              "      <td>880</td>\n",
              "      <td>129</td>\n",
              "      <td>322</td>\n",
              "      <td>126</td>\n",
              "      <td>8.3252</td>\n",
              "      <td>452600</td>\n",
              "      <td>NEAR BAY</td>\n",
              "    </tr>\n",
              "    <tr>\n",
              "      <th>1</th>\n",
              "      <td>-122.22</td>\n",
              "      <td>37.86</td>\n",
              "      <td>21</td>\n",
              "      <td>7099</td>\n",
              "      <td>1106</td>\n",
              "      <td>2401</td>\n",
              "      <td>1138</td>\n",
              "      <td>8.3014</td>\n",
              "      <td>358500</td>\n",
              "      <td>NEAR BAY</td>\n",
              "    </tr>\n",
              "    <tr>\n",
              "      <th>2</th>\n",
              "      <td>-122.24</td>\n",
              "      <td>37.85</td>\n",
              "      <td>52</td>\n",
              "      <td>1467</td>\n",
              "      <td>190</td>\n",
              "      <td>496</td>\n",
              "      <td>177</td>\n",
              "      <td>7.2574</td>\n",
              "      <td>352100</td>\n",
              "      <td>NEAR BAY</td>\n",
              "    </tr>\n",
              "    <tr>\n",
              "      <th>3</th>\n",
              "      <td>-122.25</td>\n",
              "      <td>37.85</td>\n",
              "      <td>52</td>\n",
              "      <td>1274</td>\n",
              "      <td>235</td>\n",
              "      <td>558</td>\n",
              "      <td>219</td>\n",
              "      <td>5.6431</td>\n",
              "      <td>341300</td>\n",
              "      <td>NEAR BAY</td>\n",
              "    </tr>\n",
              "    <tr>\n",
              "      <th>4</th>\n",
              "      <td>-122.25</td>\n",
              "      <td>37.85</td>\n",
              "      <td>52</td>\n",
              "      <td>1627</td>\n",
              "      <td>280</td>\n",
              "      <td>565</td>\n",
              "      <td>259</td>\n",
              "      <td>3.8462</td>\n",
              "      <td>342200</td>\n",
              "      <td>NEAR BAY</td>\n",
              "    </tr>\n",
              "    <tr>\n",
              "      <th>...</th>\n",
              "      <td>...</td>\n",
              "      <td>...</td>\n",
              "      <td>...</td>\n",
              "      <td>...</td>\n",
              "      <td>...</td>\n",
              "      <td>...</td>\n",
              "      <td>...</td>\n",
              "      <td>...</td>\n",
              "      <td>...</td>\n",
              "      <td>...</td>\n",
              "    </tr>\n",
              "    <tr>\n",
              "      <th>20635</th>\n",
              "      <td>-121.09</td>\n",
              "      <td>39.48</td>\n",
              "      <td>25</td>\n",
              "      <td>1665</td>\n",
              "      <td>374</td>\n",
              "      <td>845</td>\n",
              "      <td>330</td>\n",
              "      <td>1.5603</td>\n",
              "      <td>78100</td>\n",
              "      <td>INLAND</td>\n",
              "    </tr>\n",
              "    <tr>\n",
              "      <th>20636</th>\n",
              "      <td>-121.21</td>\n",
              "      <td>39.49</td>\n",
              "      <td>18</td>\n",
              "      <td>697</td>\n",
              "      <td>150</td>\n",
              "      <td>356</td>\n",
              "      <td>114</td>\n",
              "      <td>2.5568</td>\n",
              "      <td>77100</td>\n",
              "      <td>INLAND</td>\n",
              "    </tr>\n",
              "    <tr>\n",
              "      <th>20637</th>\n",
              "      <td>-121.22</td>\n",
              "      <td>39.43</td>\n",
              "      <td>17</td>\n",
              "      <td>2254</td>\n",
              "      <td>485</td>\n",
              "      <td>1007</td>\n",
              "      <td>433</td>\n",
              "      <td>1.7</td>\n",
              "      <td>92300</td>\n",
              "      <td>INLAND</td>\n",
              "    </tr>\n",
              "    <tr>\n",
              "      <th>20638</th>\n",
              "      <td>-121.32</td>\n",
              "      <td>39.43</td>\n",
              "      <td>18</td>\n",
              "      <td>1860</td>\n",
              "      <td>409</td>\n",
              "      <td>741</td>\n",
              "      <td>349</td>\n",
              "      <td>1.8672</td>\n",
              "      <td>84700</td>\n",
              "      <td>INLAND</td>\n",
              "    </tr>\n",
              "    <tr>\n",
              "      <th>20639</th>\n",
              "      <td>-121.24</td>\n",
              "      <td>39.37</td>\n",
              "      <td>16</td>\n",
              "      <td>2785</td>\n",
              "      <td>616</td>\n",
              "      <td>1387</td>\n",
              "      <td>530</td>\n",
              "      <td>2.3886</td>\n",
              "      <td>89400</td>\n",
              "      <td>INLAND</td>\n",
              "    </tr>\n",
              "  </tbody>\n",
              "</table>\n",
              "<p>20640 rows × 10 columns</p>\n",
              "</div>"
            ],
            "text/plain": [
              "            0      1   2     3     4     5     6       7       8         9\n",
              "0     -122.23  37.88  41   880   129   322   126  8.3252  452600  NEAR BAY\n",
              "1     -122.22  37.86  21  7099  1106  2401  1138  8.3014  358500  NEAR BAY\n",
              "2     -122.24  37.85  52  1467   190   496   177  7.2574  352100  NEAR BAY\n",
              "3     -122.25  37.85  52  1274   235   558   219  5.6431  341300  NEAR BAY\n",
              "4     -122.25  37.85  52  1627   280   565   259  3.8462  342200  NEAR BAY\n",
              "...       ...    ...  ..   ...   ...   ...   ...     ...     ...       ...\n",
              "20635 -121.09  39.48  25  1665   374   845   330  1.5603   78100    INLAND\n",
              "20636 -121.21  39.49  18   697   150   356   114  2.5568   77100    INLAND\n",
              "20637 -121.22  39.43  17  2254   485  1007   433     1.7   92300    INLAND\n",
              "20638 -121.32  39.43  18  1860   409   741   349  1.8672   84700    INLAND\n",
              "20639 -121.24  39.37  16  2785   616  1387   530  2.3886   89400    INLAND\n",
              "\n",
              "[20640 rows x 10 columns]"
            ]
          },
          "metadata": {},
          "execution_count": 39
        }
      ]
    },
    {
      "cell_type": "code",
      "metadata": {
        "colab": {
          "base_uri": "https://localhost:8080/",
          "height": 433
        },
        "id": "WcYKI4to70ol",
        "outputId": "4ca29c5d-a48a-470c-f7fd-4348cb287a69"
      },
      "source": [
        "msno.matrix(data)\n",
        "plt.show()"
      ],
      "execution_count": 40,
      "outputs": [
        {
          "output_type": "display_data",
          "data": {
            "image/png": "[encoded data removed]",
            "text/plain": [
              "<Figure size 1800x720 with 2 Axes>"
            ]
          },
          "metadata": {
            "needs_background": "light"
          }
        }
      ]
    },
    {
      "cell_type": "markdown",
      "metadata": {
        "id": "U3HmN9aH70Uw"
      },
      "source": [
        "3. LabelEncoder"
      ]
    },
    {
      "cell_type": "code",
      "metadata": {
        "colab": {
          "base_uri": "https://localhost:8080/"
        },
        "id": "oRb-kD529tcM",
        "outputId": "3f675347-8154-47f0-b190-f6fab619b742"
      },
      "source": [
        "x = data.iloc[:,:-1].values\n",
        "y = data.iloc[:,-1:].values\n",
        "\n",
        "y"
      ],
      "execution_count": 41,
      "outputs": [
        {
          "output_type": "execute_result",
          "data": {
            "text/plain": [
              "array([['NEAR BAY'],\n",
              "       ['NEAR BAY'],\n",
              "       ['NEAR BAY'],\n",
              "       ...,\n",
              "       ['INLAND'],\n",
              "       ['INLAND'],\n",
              "       ['INLAND']], dtype=object)"
            ]
          },
          "metadata": {},
          "execution_count": 41
        }
      ]
    },
    {
      "cell_type": "code",
      "metadata": {
        "id": "ggL6SKC_CIRV"
      },
      "source": [
        "data.columns= [['longitude','latitude','housing_median_age','total_rooms','total_bedrooms','population','households','median_income','median_house_value','ocean_proximity']]"
      ],
      "execution_count": 42,
      "outputs": []
    },
    {
      "cell_type": "code",
      "metadata": {
        "colab": {
          "base_uri": "https://localhost:8080/",
          "height": 224
        },
        "id": "dXbq7EKGCiGz",
        "outputId": "673adc10-5d47-4822-a6b1-abcc6d1141d1"
      },
      "source": [
        "data.head()"
      ],
      "execution_count": 43,
      "outputs": [
        {
          "output_type": "execute_result",
          "data": {
            "text/html": [
              "<div>\n",
              "<style scoped>\n",
              "    .dataframe tbody tr th:only-of-type {\n",
              "        vertical-align: middle;\n",
              "    }\n",
              "\n",
              "    .dataframe tbody tr th {\n",
              "        vertical-align: top;\n",
              "    }\n",
              "\n",
              "    .dataframe thead tr th {\n",
              "        text-align: left;\n",
              "    }\n",
              "</style>\n",
              "<table border=\"1\" class=\"dataframe\">\n",
              "  <thead>\n",
              "    <tr>\n",
              "      <th></th>\n",
              "      <th>longitude</th>\n",
              "      <th>latitude</th>\n",
              "      <th>housing_median_age</th>\n",
              "      <th>total_rooms</th>\n",
              "      <th>total_bedrooms</th>\n",
              "      <th>population</th>\n",
              "      <th>households</th>\n",
              "      <th>median_income</th>\n",
              "      <th>median_house_value</th>\n",
              "      <th>ocean_proximity</th>\n",
              "    </tr>\n",
              "  </thead>\n",
              "  <tbody>\n",
              "    <tr>\n",
              "      <th>0</th>\n",
              "      <td>-122.23</td>\n",
              "      <td>37.88</td>\n",
              "      <td>41</td>\n",
              "      <td>880</td>\n",
              "      <td>129</td>\n",
              "      <td>322</td>\n",
              "      <td>126</td>\n",
              "      <td>8.3252</td>\n",
              "      <td>452600</td>\n",
              "      <td>NEAR BAY</td>\n",
              "    </tr>\n",
              "    <tr>\n",
              "      <th>1</th>\n",
              "      <td>-122.22</td>\n",
              "      <td>37.86</td>\n",
              "      <td>21</td>\n",
              "      <td>7099</td>\n",
              "      <td>1106</td>\n",
              "      <td>2401</td>\n",
              "      <td>1138</td>\n",
              "      <td>8.3014</td>\n",
              "      <td>358500</td>\n",
              "      <td>NEAR BAY</td>\n",
              "    </tr>\n",
              "    <tr>\n",
              "      <th>2</th>\n",
              "      <td>-122.24</td>\n",
              "      <td>37.85</td>\n",
              "      <td>52</td>\n",
              "      <td>1467</td>\n",
              "      <td>190</td>\n",
              "      <td>496</td>\n",
              "      <td>177</td>\n",
              "      <td>7.2574</td>\n",
              "      <td>352100</td>\n",
              "      <td>NEAR BAY</td>\n",
              "    </tr>\n",
              "    <tr>\n",
              "      <th>3</th>\n",
              "      <td>-122.25</td>\n",
              "      <td>37.85</td>\n",
              "      <td>52</td>\n",
              "      <td>1274</td>\n",
              "      <td>235</td>\n",
              "      <td>558</td>\n",
              "      <td>219</td>\n",
              "      <td>5.6431</td>\n",
              "      <td>341300</td>\n",
              "      <td>NEAR BAY</td>\n",
              "    </tr>\n",
              "    <tr>\n",
              "      <th>4</th>\n",
              "      <td>-122.25</td>\n",
              "      <td>37.85</td>\n",
              "      <td>52</td>\n",
              "      <td>1627</td>\n",
              "      <td>280</td>\n",
              "      <td>565</td>\n",
              "      <td>259</td>\n",
              "      <td>3.8462</td>\n",
              "      <td>342200</td>\n",
              "      <td>NEAR BAY</td>\n",
              "    </tr>\n",
              "  </tbody>\n",
              "</table>\n",
              "</div>"
            ],
            "text/plain": [
              "  longitude latitude  ... median_house_value ocean_proximity\n",
              "0   -122.23    37.88  ...             452600        NEAR BAY\n",
              "1   -122.22    37.86  ...             358500        NEAR BAY\n",
              "2   -122.24    37.85  ...             352100        NEAR BAY\n",
              "3   -122.25    37.85  ...             341300        NEAR BAY\n",
              "4   -122.25    37.85  ...             342200        NEAR BAY\n",
              "\n",
              "[5 rows x 10 columns]"
            ]
          },
          "metadata": {},
          "execution_count": 43
        }
      ]
    },
    {
      "cell_type": "code",
      "metadata": {
        "colab": {
          "base_uri": "https://localhost:8080/"
        },
        "id": "SpTsqr678g97",
        "outputId": "c357876e-18be-4988-830f-ec7d9f19a2d7"
      },
      "source": [
        "from sklearn.preprocessing import LabelEncoder\n",
        "\n",
        "encoder = LabelEncoder()\n",
        "encoder.fit(y)\n",
        "labels = encoder.transform(y)\n",
        "data = data.drop('ocean_proximity', axis=1)\n",
        "data['ocean'] = labels"
      ],
      "execution_count": 44,
      "outputs": [
        {
          "output_type": "stream",
          "name": "stderr",
          "text": [
            "/usr/local/lib/python3.7/dist-packages/sklearn/preprocessing/_label.py:235: DataConversionWarning: A column-vector y was passed when a 1d array was expected. Please change the shape of y to (n_samples, ), for example using ravel().\n",
            "  y = column_or_1d(y, warn=True)\n",
            "/usr/local/lib/python3.7/dist-packages/sklearn/preprocessing/_label.py:268: DataConversionWarning: A column-vector y was passed when a 1d array was expected. Please change the shape of y to (n_samples, ), for example using ravel().\n",
            "  y = column_or_1d(y, warn=True)\n",
            "/usr/local/lib/python3.7/dist-packages/pandas/core/generic.py:3889: PerformanceWarning: dropping on a non-lexsorted multi-index without a level parameter may impact performance.\n",
            "  obj = obj._drop_axis(labels, axis, level=level, errors=errors)\n"
          ]
        }
      ]
    },
    {
      "cell_type": "code",
      "metadata": {
        "colab": {
          "base_uri": "https://localhost:8080/"
        },
        "id": "v3Ln9vO3-f_B",
        "outputId": "299e1fc9-6921-4586-d8ec-44be11f81d1c"
      },
      "source": [
        "data.tail()\n",
        "data.values[:,:-1]"
      ],
      "execution_count": 45,
      "outputs": [
        {
          "output_type": "execute_result",
          "data": {
            "text/plain": [
              "array([[-122.23, 37.88, 41.0, ..., 126.0, 8.3252, 452600.0],\n",
              "       [-122.22, 37.86, 21.0, ..., 1138.0, 8.3014, 358500.0],\n",
              "       [-122.24, 37.85, 52.0, ..., 177.0, 7.2574, 352100.0],\n",
              "       ...,\n",
              "       [-121.22, 39.43, 17.0, ..., 433.0, 1.7, 92300.0],\n",
              "       [-121.32, 39.43, 18.0, ..., 349.0, 1.8672, 84700.0],\n",
              "       [-121.24, 39.37, 16.0, ..., 530.0, 2.3886, 89400.0]], dtype=object)"
            ]
          },
          "metadata": {},
          "execution_count": 45
        }
      ]
    },
    {
      "cell_type": "markdown",
      "metadata": {
        "id": "1IcWB1x3-jS8"
      },
      "source": [
        "4. Data preprocessing"
      ]
    },
    {
      "cell_type": "code",
      "metadata": {
        "id": "HQh51QqU-zKn"
      },
      "source": [
        "from sklearn.preprocessing import StandardScaler\n",
        "\n",
        "scaler = StandardScaler() \n",
        "scaler.fit(data.values[:,:-1])\n",
        "df = scaler.transform(data.values[:,:-1])"
      ],
      "execution_count": 46,
      "outputs": []
    },
    {
      "cell_type": "code",
      "metadata": {
        "colab": {
          "base_uri": "https://localhost:8080/",
          "height": 204
        },
        "id": "LbAQxh0MDTVY",
        "outputId": "0c0c0e07-0e6f-46cd-96ab-00d5090a7921"
      },
      "source": [
        "df = pd.DataFrame(df)\n",
        "df['9'] = labels\n",
        "df.head()"
      ],
      "execution_count": 52,
      "outputs": [
        {
          "output_type": "execute_result",
          "data": {
            "text/html": [
              "<div>\n",
              "<style scoped>\n",
              "    .dataframe tbody tr th:only-of-type {\n",
              "        vertical-align: middle;\n",
              "    }\n",
              "\n",
              "    .dataframe tbody tr th {\n",
              "        vertical-align: top;\n",
              "    }\n",
              "\n",
              "    .dataframe thead th {\n",
              "        text-align: right;\n",
              "    }\n",
              "</style>\n",
              "<table border=\"1\" class=\"dataframe\">\n",
              "  <thead>\n",
              "    <tr style=\"text-align: right;\">\n",
              "      <th></th>\n",
              "      <th>0</th>\n",
              "      <th>1</th>\n",
              "      <th>2</th>\n",
              "      <th>3</th>\n",
              "      <th>4</th>\n",
              "      <th>5</th>\n",
              "      <th>6</th>\n",
              "      <th>7</th>\n",
              "      <th>8</th>\n",
              "      <th>9</th>\n",
              "    </tr>\n",
              "  </thead>\n",
              "  <tbody>\n",
              "    <tr>\n",
              "      <th>0</th>\n",
              "      <td>-1.327835</td>\n",
              "      <td>1.052548</td>\n",
              "      <td>0.982143</td>\n",
              "      <td>-0.804819</td>\n",
              "      <td>-0.967245</td>\n",
              "      <td>-0.974429</td>\n",
              "      <td>-0.977033</td>\n",
              "      <td>2.344766</td>\n",
              "      <td>2.129631</td>\n",
              "      <td>3</td>\n",
              "    </tr>\n",
              "    <tr>\n",
              "      <th>1</th>\n",
              "      <td>-1.322844</td>\n",
              "      <td>1.043185</td>\n",
              "      <td>-0.607019</td>\n",
              "      <td>2.045890</td>\n",
              "      <td>1.358707</td>\n",
              "      <td>0.861439</td>\n",
              "      <td>1.669961</td>\n",
              "      <td>2.332238</td>\n",
              "      <td>1.314156</td>\n",
              "      <td>3</td>\n",
              "    </tr>\n",
              "    <tr>\n",
              "      <th>2</th>\n",
              "      <td>-1.332827</td>\n",
              "      <td>1.038503</td>\n",
              "      <td>1.856182</td>\n",
              "      <td>-0.535746</td>\n",
              "      <td>-0.822021</td>\n",
              "      <td>-0.820777</td>\n",
              "      <td>-0.843637</td>\n",
              "      <td>1.782699</td>\n",
              "      <td>1.258693</td>\n",
              "      <td>3</td>\n",
              "    </tr>\n",
              "    <tr>\n",
              "      <th>3</th>\n",
              "      <td>-1.337818</td>\n",
              "      <td>1.038503</td>\n",
              "      <td>1.856182</td>\n",
              "      <td>-0.624215</td>\n",
              "      <td>-0.714889</td>\n",
              "      <td>-0.766028</td>\n",
              "      <td>-0.733781</td>\n",
              "      <td>0.932968</td>\n",
              "      <td>1.165100</td>\n",
              "      <td>3</td>\n",
              "    </tr>\n",
              "    <tr>\n",
              "      <th>4</th>\n",
              "      <td>-1.337818</td>\n",
              "      <td>1.038503</td>\n",
              "      <td>1.856182</td>\n",
              "      <td>-0.462404</td>\n",
              "      <td>-0.607758</td>\n",
              "      <td>-0.759847</td>\n",
              "      <td>-0.629157</td>\n",
              "      <td>-0.012881</td>\n",
              "      <td>1.172900</td>\n",
              "      <td>3</td>\n",
              "    </tr>\n",
              "  </tbody>\n",
              "</table>\n",
              "</div>"
            ],
            "text/plain": [
              "          0         1         2         3  ...         6         7         8  9\n",
              "0 -1.327835  1.052548  0.982143 -0.804819  ... -0.977033  2.344766  2.129631  3\n",
              "1 -1.322844  1.043185 -0.607019  2.045890  ...  1.669961  2.332238  1.314156  3\n",
              "2 -1.332827  1.038503  1.856182 -0.535746  ... -0.843637  1.782699  1.258693  3\n",
              "3 -1.337818  1.038503  1.856182 -0.624215  ... -0.733781  0.932968  1.165100  3\n",
              "4 -1.337818  1.038503  1.856182 -0.462404  ... -0.629157 -0.012881  1.172900  3\n",
              "\n",
              "[5 rows x 10 columns]"
            ]
          },
          "metadata": {},
          "execution_count": 52
        }
      ]
    },
    {
      "cell_type": "markdown",
      "metadata": {
        "id": "XlcQpmam-fQ9"
      },
      "source": [
        "4. To Model use Pytorch"
      ]
    },
    {
      "cell_type": "code",
      "metadata": {
        "id": "HJYBY_QVElv2"
      },
      "source": [
        "import torch\n",
        "import torch.nn as nn\n",
        "import torch.nn.functional as F\n",
        "import torch.optim as optim"
      ],
      "execution_count": 53,
      "outputs": []
    },
    {
      "cell_type": "code",
      "metadata": {
        "colab": {
          "base_uri": "https://localhost:8080/"
        },
        "id": "_76LwkLWEo2o",
        "outputId": "ea1c9105-e4e4-4fda-f335-27c9bcfb4074"
      },
      "source": [
        "data = torch.from_numpy(df.values).float()\n",
        "\n",
        "data.shape"
      ],
      "execution_count": 55,
      "outputs": [
        {
          "output_type": "execute_result",
          "data": {
            "text/plain": [
              "torch.Size([20640, 10])"
            ]
          },
          "metadata": {},
          "execution_count": 55
        }
      ]
    },
    {
      "cell_type": "code",
      "metadata": {
        "colab": {
          "base_uri": "https://localhost:8080/"
        },
        "id": "a4uMz1NoEv1u",
        "outputId": "8951a3a1-3f29-4e8d-f4f4-ea57a5152cd3"
      },
      "source": [
        "x = data[:, :-1]\n",
        "y = data[:, -1:]\n",
        "\n",
        "print(x.shape, y.shape)\n",
        "print(x.size(0))"
      ],
      "execution_count": 56,
      "outputs": [
        {
          "output_type": "stream",
          "name": "stdout",
          "text": [
            "torch.Size([20640, 9]) torch.Size([20640, 1])\n",
            "20640\n"
          ]
        }
      ]
    },
    {
      "cell_type": "code",
      "metadata": {
        "id": "tiFxE_61Ey_S"
      },
      "source": [
        "n_epochs = 4000\n",
        "batch_size = 256\n",
        "print_interval = 200\n",
        "#learning_rate = 1e-2"
      ],
      "execution_count": 57,
      "outputs": []
    },
    {
      "cell_type": "code",
      "metadata": {
        "id": "NvbxJn0sE0rX"
      },
      "source": [
        "# Build Model\n",
        "\n",
        "model = nn.Sequential(\n",
        "    nn.Linear(x.size(-1), 6), # 8->6\n",
        "    nn.LeakyReLU(),\n",
        "    nn.Linear(6, 5),\n",
        "    nn.LeakyReLU(),\n",
        "    nn.Linear(5, 4),\n",
        "    nn.LeakyReLU(),\n",
        "    nn.Linear(4, 3),\n",
        "    nn.LeakyReLU(),\n",
        "    nn.Linear(3, y.size(-1)),\n",
        "\n",
        ")\n",
        "\n",
        "model\n",
        "\n",
        "optimizer = optim.Adam(model.parameters())"
      ],
      "execution_count": 58,
      "outputs": []
    },
    {
      "cell_type": "code",
      "metadata": {
        "colab": {
          "base_uri": "https://localhost:8080/"
        },
        "id": "GVB_gaQkE98N",
        "outputId": "0c98f966-4da8-49f8-ba85-cfd7d410a05b"
      },
      "source": [
        "# |x| = (total_size, input_dim)\n",
        "# |y| = (total_size, output_dim)\n",
        "\n",
        "\n",
        "for i in range(n_epochs) :\n",
        "  # shuffle the index to feed-forward.\n",
        "  # 20640개 데이터 셔플링해서 랜덤하게 새로 인덱스 설정해주기 \n",
        "  indices = torch.randperm(x.size(0)) #x.size(0) = 20640\n",
        "  x_ = torch.index_select(x, dim=0, index=indices)\n",
        "  y_ = torch.index_select(y, dim=0, index=indices)\n",
        "\n",
        "  x_ = x_.split(batch_size, dim=0)\n",
        "  y_ = y_.split(batch_size, dim=0)\n",
        "  # |x_[i]| = (batch_size, input_dim)\n",
        "  # |y_[i]| = (batch_size, output_dim)\n",
        "\n",
        "  y_hat = []\n",
        "  total_loss = 0\n",
        "\n",
        "  for x_i, y_i in zip(x_, y_):\n",
        "    y_hat_i = model(x_i)\n",
        "    loss = F.mse_loss(y_hat_i, y_i)\n",
        "\n",
        "    optimizer.zero_grad()\n",
        "    loss.backward()\n",
        "\n",
        "    optimizer.step()\n",
        "\n",
        "    total_loss += float(loss) #this is very important to prevent memory leark.\n",
        "    y_hat += [y_hat_i]\n",
        "\n",
        "  total_loss = total_loss / len(x_)\n",
        "  if (i + 1) % print_interval == 0:\n",
        "    print('Epoch %d : loss=%.4e' % (i+1, total_loss))\n",
        "\n",
        "y_hat = torch.cat(y_hat, dim=0)\n",
        "y = torch.cat(y_, dim=0)\n",
        "\n"
      ],
      "execution_count": 59,
      "outputs": [
        {
          "output_type": "stream",
          "name": "stdout",
          "text": [
            "Epoch 200 : loss=6.2918e-01\n",
            "Epoch 400 : loss=5.6427e-01\n",
            "Epoch 600 : loss=5.3769e-01\n",
            "Epoch 800 : loss=5.2961e-01\n",
            "Epoch 1000 : loss=5.2224e-01\n",
            "Epoch 1200 : loss=5.2523e-01\n",
            "Epoch 1400 : loss=5.0996e-01\n",
            "Epoch 1600 : loss=5.1585e-01\n",
            "Epoch 1800 : loss=5.0311e-01\n",
            "Epoch 2000 : loss=5.0586e-01\n",
            "Epoch 2200 : loss=4.9662e-01\n",
            "Epoch 2400 : loss=5.0468e-01\n",
            "Epoch 2600 : loss=5.0613e-01\n",
            "Epoch 2800 : loss=5.0363e-01\n",
            "Epoch 3000 : loss=4.9539e-01\n",
            "Epoch 3200 : loss=4.9769e-01\n",
            "Epoch 3400 : loss=4.9808e-01\n",
            "Epoch 3600 : loss=4.9858e-01\n",
            "Epoch 3800 : loss=4.9331e-01\n",
            "Epoch 4000 : loss=4.9789e-01\n"
          ]
        }
      ]
    },
    {
      "cell_type": "markdown",
      "metadata": {
        "id": "eO8fnLtYTnNm"
      },
      "source": [
        "Let's see the result!"
      ]
    },
    {
      "cell_type": "code",
      "metadata": {
        "colab": {
          "base_uri": "https://localhost:8080/",
          "height": 585
        },
        "id": "tq2ZfK1ATqPX",
        "outputId": "2c7c7405-b94b-4d05-bec0-7349200d069a"
      },
      "source": [
        "df = pd.DataFrame(torch.cat([y, y_hat], dim=1).detach().numpy(),\n",
        "                  columns=[\"y\", \"y_hat\"])\n",
        "\n",
        "sns.pairplot(df, height=4)\n",
        "plt.show()\n",
        "\n",
        "# 5가 잘 예측되지 않음을 확인할 수 있다."
      ],
      "execution_count": 62,
      "outputs": [
        {
          "output_type": "display_data",
          "data": {
            "image/png": "[encoded data removed]",
            "text/plain": [
              "<Figure size 576x576 with 6 Axes>"
            ]
          },
          "metadata": {
            "needs_background": "light"
          }
        }
      ]
    },
    {
      "cell_type": "markdown",
      "metadata": {
        "id": "KbDMwhuS5uYG"
      },
      "source": [
        "5. reference\n",
        "\n",
        "* Missing value : https://continuous-development.tistory.com/165\n",
        "\n",
        "* LabelEncoder : https://nicola-ml.tistory.com/62"
      ]
    }
  ]
}