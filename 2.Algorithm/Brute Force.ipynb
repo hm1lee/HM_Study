{
 "cells": [
  {
   "cell_type": "markdown",
   "metadata": {},
   "source": [
    "## Elements of Programming interview \n",
    "#### 1day - p.22~52 (Data Structures And Algorithms)"
   ]
  },
  {
   "cell_type": "markdown",
   "metadata": {},
   "source": [
    "Chapter4. Primitive Types\n",
    "\n",
    "- python has a number of built-in types : numbers, sequences, mapping, classes\n",
    "- Be very comfortable with the bitwise operations, particularly XOR.\n",
    "- Understand how to use makes and them in an machine independent way.\n",
    "- Know fast ways to clear lowermost set bit\n",
    "- Understand signedness and its implications to shifting\n",
    "- Consider using a cache to accelerate operations by using it to brute-force small inputs"
   ]
  },
  {
   "cell_type": "markdown",
   "metadata": {},
   "source": [
    "**브루트 포스(Brute Force) 알고리즘**\n",
    "\n",
    "- 완전탐색 알고리즘. \n",
    "- 가능한 모든 경우의 수를 모두 탐색하면서 요구조건에 충족되는 결과만을 가져온다.\n",
    "- 예외 없이 100%의 확률로 정답만을 출력한다.\n",
    "- 브루트 포스의 가장 흔한 문제점은 숫자가 커지면 커질수록 시간복잡도가 엄청나게 늘어남\n",
    "\n",
    "**기본적인 접근 방법** : 해가 존재할 것으로 예상되는 모든 영역을 탐색한다.\n",
    "\n",
    "1. 선형 구조를 전체적으로 탐색하는 '순차 탐색'\n",
    "2. 비선형 구조를 전체적으로 탐색하는 '깊이 우선 탐색(DFS)'과 '너비 우선 탐색(BFS)'\n",
    "\n",
    "**문제 해결 방법**\n",
    "1. 주어진 문제를 선형 구조로 구조화한다.\n",
    "2. 구조화된 문제 공간을 적절한 방법으로 해를 구성할 때까지 탐색한다.\n",
    "3. 구성된 해를 정리한다.\n"
   ]
  },
  {
   "cell_type": "code",
   "execution_count": 9,
   "metadata": {},
   "outputs": [],
   "source": [
    "# Primitive types boot\n",
    "# shifting and masking : it shows how to avoid hard-coding the size of the integer word\n",
    "\n",
    "\n",
    "\n",
    "# 단어의 1s 수가 홀수이면 이진 워드의 패리티는 1이고, 그렇지 않으면 0입니다.\n",
    "# 예를 들어, 패리티 1011은 1이고 패리티 1000은 0입니다. \n",
    "# 패리티 검사는 보통 탐지하는 데 사용됩니다.\n",
    "#단일 64비트 워드의 패리티를 계산합니다.\n",
    "\n",
    "def count_bits(x):\n",
    "    num_bits = 0\n",
    "    while x:\n",
    "        num_bits += x & 1\n",
    "        x >>= 1\n",
    "    return num_bits"
   ]
  },
  {
   "cell_type": "code",
   "execution_count": null,
   "metadata": {},
   "outputs": [],
   "source": []
  }
 ],
 "metadata": {
  "kernelspec": {
   "display_name": "Python 3",
   "language": "python",
   "name": "python3"
  },
  "language_info": {
   "codemirror_mode": {
    "name": "ipython",
    "version": 3
   },
   "file_extension": ".py",
   "mimetype": "text/x-python",
   "name": "python",
   "nbconvert_exporter": "python",
   "pygments_lexer": "ipython3",
   "version": "3.8.3"
  }
 },
 "nbformat": 4,
 "nbformat_minor": 4
}
