{
 "cells": [
  {
   "attachments": {
    "fcde1b04-ec86-4bfb-8443-ca2103166317.png": {
     "image/png": "[encoded data removed]"
    }
   },
   "cell_type": "markdown",
   "metadata": {},
   "source": [
    "#### DP(Dynamic Programming)\n",
    "\n",
    "\n",
    "- 수학과 컴퓨터 공학, 그리고 경제학에서 동적 계획법( dynamic programming )이란 복잡한 문제를 간단한 여러 개의 문제로 나누어 푸는 방법을 말한다.\n",
    "\n",
    "- 이미 했던 연산이 반복되는 결점을 보완하기 위해서 동적 계획법(Dynamic Programing, DP)이 고안되었습니다. 처음 진행되는 연산은 기록해 두고, 이미 진행했던 연산이라면 다시 연산하는 것이 아니라 기록되어 있는 값을 가져오는 것이죠\n",
    "\n",
    "- 다이나믹 프로그래밍은 메모리 공간을 약간 더 사용해서 연산 속도를 비약적으로 증가시키는 방법이다. \n",
    "\n",
    "- 다음과 같은 2가지 조건을 만족할 때 다이나믹 프로그래밍을 사용할 수 있다.\n",
    "    - 큰 문제를 작은 문제로 나눌 수 있다.\n",
    "    - 작은 문제에서 구한 정답은 그것을 포함하는 큰 문제에서도 동일하다.\n",
    "    \n",
    "    \n",
    "- 가장 큰 예시가 피보나치 수열이다.\n",
    "![image.png](attachment:fcde1b04-ec86-4bfb-8443-ca2103166317.png)"
   ]
  },
  {
   "cell_type": "code",
   "execution_count": 2,
   "metadata": {},
   "outputs": [
    {
     "data": {
      "text/plain": [
       "'\\n\\nint fiboData[100] = {0,};\\n\\nint fibo(int n)\\n{\\n  if (n<=2) \\n    return 1;\\n  if (fiboData[n]==0)\\n    fiboData[n] = fibo(n-1) + fibo(n-2);\\n  return fiboData[n];\\n}\\n\\n'"
      ]
     },
     "execution_count": 2,
     "metadata": {},
     "output_type": "execute_result"
    }
   ],
   "source": [
    "'''\n",
    "\n",
    "int fiboData[100] = {0,};\n",
    "\n",
    "int fibo(int n)\n",
    "{\n",
    "  if (n<=2) \n",
    "    return 1;\n",
    "  if (fiboData[n]==0)\n",
    "    fiboData[n] = fibo(n-1) + fibo(n-2);\n",
    "  return fiboData[n];\n",
    "}\n",
    "\n",
    "'''"
   ]
  },
  {
   "cell_type": "markdown",
   "metadata": {},
   "source": [
    "\n",
    "\n",
    "* fiboData라는 배열을 생성합니다. 이 배열에는 연산한 값들이 저장될 예정입니다. n이 2 이하일 경우 1을 반환하고, 그 이상일 경우 fiboData[n]에 연산 값이 없는지 검사합니다. 없을 경우, 새로 연산해서 fiboData[n]에 값을 저장하고, 반환합니다. 만약 연산 값이 존재한다면 바로 fiboData[n]을 반환하게 됩니다. 재귀와는 다르게 중복되는 연산이 사라졌죠?\n",
    "\n",
    "\n",
    "* 단순 재귀함수로 구현한 것과는 다르게 x값이 증가해도 함수 러닝타임이 기하급수적으로 증가하지 않는 것을 볼 수 있다. 이렇게 재귀함수를 사용해 구현하는 다이나믹 프로그래밍 방법은 메모제이션 기법을 활용한 Top-Down 방식이라고 한다. 즉, 큰 문제를 해결하기 위해 작은 문제를 호출하는 것이다.\n"
   ]
  },
  {
   "cell_type": "markdown",
   "metadata": {},
   "source": [
    "#### 메모이제이션\n",
    "\n",
    "일한 문제를 반복해야 할 경우, 한 번 계산된 결과를 저장해 두었다가 활용하는 방식으로 중복 계산을 줄이는 것을 메모이제이션(Memoization)이라고 합니다.\n",
    "\n",
    "\n",
    "#### 장점과 단점\n",
    "\n",
    "- 동적 계획법은 모든 방법을 일일이 검토하여 최적의 해를 찾아내는 방식의 알고리즘입니다. 여기서 그리디 알고리즘(탐욕 알고리즘)과 대비됩니다. \n",
    "- 그리디 알고리즘은 모든 해를 구하지 않고 순간마다 그 순간에서의 최적의 해를 찾는 방식입니다. 그리디 알고리즘은 닥치는 순간만을 고려해서 해를 구하기 때문에 도출된 값이 항상 최적의 해라고 할 수는 없겠죠. \n",
    "- 하지만 동적 계획법은 모든 방법을 검토해 보고 결과적으로 효율적인 값을 택합니다. \n",
    "- 그런 면에서 동적 계획법은 그리디 알고리즘에 비해 시간이 오래 걸리지만, 결과적으로는 항상 최적의 해를 구할 수 있다는 이점을 가지고 있습니다.\n",
    "\n",
    "- - -"
   ]
  },
  {
   "cell_type": "markdown",
   "metadata": {},
   "source": [
    "예제 1. 백준 1463"
   ]
  },
  {
   "cell_type": "markdown",
   "metadata": {},
   "source": [
    "출처\n",
    "\n",
    "1. https://velog.io/@khjcode/%EC%95%8C%EA%B3%A0%EB%A6%AC%EC%A6%98-DP-%EB%AC%B8%EC%A0%9C-%ED%92%80%EA%B8%B0-%ED%8C%8C%EC%9D%B4%EC%8D%AC\n",
    "\n",
    "2. https://velog.io/@chelsea/1-%EB%8F%99%EC%A0%81-%EA%B3%84%ED%9A%8D%EB%B2%95Dynamic-Programming-DP#:~:text=%EB%8F%99%EC%A0%81%20%EA%B3%84%ED%9A%8D%EB%B2%95%EC%9D%80%20%EB%AC%B8%EC%A0%9C%EB%A5%BC,%ED%95%98%EB%8A%94%20%EB%B0%A9%EC%8B%9D%EC%9D%98%20%EC%95%8C%EA%B3%A0%EB%A6%AC%EC%A6%98%EC%9D%B4%EC%97%90%EC%9A%94."
   ]
  },
  {
   "cell_type": "code",
   "execution_count": null,
   "metadata": {},
   "outputs": [],
   "source": []
  }
 ],
 "metadata": {
  "kernelspec": {
   "display_name": "Python 3",
   "language": "python",
   "name": "python3"
  },
  "language_info": {
   "codemirror_mode": {
    "name": "ipython",
    "version": 3
   },
   "file_extension": ".py",
   "mimetype": "text/x-python",
   "name": "python",
   "nbconvert_exporter": "python",
   "pygments_lexer": "ipython3",
   "version": "3.8.3"
  }
 },
 "nbformat": 4,
 "nbformat_minor": 4
}
