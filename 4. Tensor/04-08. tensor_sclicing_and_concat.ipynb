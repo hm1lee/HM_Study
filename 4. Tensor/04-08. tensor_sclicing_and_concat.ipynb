{
 "cells": [
  {
   "cell_type": "markdown",
   "id": "6811acaf",
   "metadata": {},
   "source": [
    "## Pytorch Tensor Slicing and Concatenation"
   ]
  },
  {
   "cell_type": "code",
   "execution_count": 1,
   "id": "e7de1d82",
   "metadata": {},
   "outputs": [],
   "source": [
    "import torch"
   ]
  },
  {
   "cell_type": "markdown",
   "id": "8dd34233",
   "metadata": {},
   "source": [
    "### Indexing and Slicing"
   ]
  },
  {
   "cell_type": "code",
   "execution_count": 2,
   "id": "f5160c06",
   "metadata": {},
   "outputs": [],
   "source": [
    "x = torch.FloatTensor([[[1,2],\n",
    "                        [3,4]],\n",
    "                       [[5, 6],\n",
    "                       [7, 8]],\n",
    "                       [[9, 10],\n",
    "                       [11, 12]]])"
   ]
  },
  {
   "cell_type": "code",
   "execution_count": 3,
   "id": "13e47c0c",
   "metadata": {},
   "outputs": [
    {
     "name": "stdout",
     "output_type": "stream",
     "text": [
      "torch.Size([3, 2, 2])\n"
     ]
    }
   ],
   "source": [
    "print(x.size())"
   ]
  },
  {
   "cell_type": "markdown",
   "id": "24a43233",
   "metadata": {},
   "source": [
    "Access to certain dimension"
   ]
  },
  {
   "cell_type": "code",
   "execution_count": 6,
   "id": "3d4771fd",
   "metadata": {},
   "outputs": [
    {
     "name": "stdout",
     "output_type": "stream",
     "text": [
      "tensor([[1., 2.],\n",
      "        [3., 4.]])\n",
      "tensor([[1., 2.],\n",
      "        [3., 4.]])\n",
      "tensor([[1., 2.],\n",
      "        [3., 4.]])\n"
     ]
    }
   ],
   "source": [
    "print(x[0])\n",
    "print(x[0, :])\n",
    "print(x[0, :, :])"
   ]
  },
  {
   "cell_type": "code",
   "execution_count": 7,
   "id": "6f77c37f",
   "metadata": {},
   "outputs": [
    {
     "name": "stdout",
     "output_type": "stream",
     "text": [
      "tensor([[ 9., 10.],\n",
      "        [11., 12.]])\n",
      "tensor([[ 9., 10.],\n",
      "        [11., 12.]])\n",
      "tensor([[ 9., 10.],\n",
      "        [11., 12.]])\n"
     ]
    }
   ],
   "source": [
    "print(x[-1])\n",
    "print(x[-1, :])\n",
    "print(x[-1, :, :])"
   ]
  },
  {
   "cell_type": "code",
   "execution_count": 8,
   "id": "45e09ee0",
   "metadata": {},
   "outputs": [
    {
     "name": "stdout",
     "output_type": "stream",
     "text": [
      "tensor([[ 1.,  2.],\n",
      "        [ 5.,  6.],\n",
      "        [ 9., 10.]])\n"
     ]
    }
   ],
   "source": [
    "print(x[:,0,:])"
   ]
  },
  {
   "cell_type": "markdown",
   "id": "ae80f398",
   "metadata": {},
   "source": [
    "Access by range. Note that the number of dimensions would not be changed"
   ]
  },
  {
   "cell_type": "code",
   "execution_count": 12,
   "id": "15f146d4",
   "metadata": {},
   "outputs": [
    {
     "name": "stdout",
     "output_type": "stream",
     "text": [
      "torch.Size([2, 2, 2])\n",
      "torch.Size([3, 1, 2])\n",
      "torch.Size([3, 1, 2])\n"
     ]
    }
   ],
   "source": [
    "print(x[1:3, : , :].size())\n",
    "print(x[:, :1 , :].size())\n",
    "print(x[:, :-1 , :].size())"
   ]
  },
  {
   "cell_type": "markdown",
   "id": "9500ce6b",
   "metadata": {},
   "source": [
    "### split : Split tensor to desirable shapes"
   ]
  },
  {
   "cell_type": "code",
   "execution_count": 13,
   "id": "497f4b0e",
   "metadata": {},
   "outputs": [],
   "source": [
    "x = torch.FloatTensor(10, 4)"
   ]
  },
  {
   "cell_type": "code",
   "execution_count": 15,
   "id": "a43dc956",
   "metadata": {},
   "outputs": [
    {
     "name": "stdout",
     "output_type": "stream",
     "text": [
      "torch.Size([4, 4])\n",
      "torch.Size([4, 4])\n",
      "torch.Size([2, 4])\n"
     ]
    }
   ],
   "source": [
    "splits = x.split(4, dim=0)\n",
    "\n",
    "for s in splits:\n",
    "    print(s.size())"
   ]
  },
  {
   "cell_type": "markdown",
   "id": "0895f6da",
   "metadata": {},
   "source": [
    "### chunk : Split tensor to number of chunks"
   ]
  },
  {
   "cell_type": "code",
   "execution_count": 16,
   "id": "120b0bfc",
   "metadata": {},
   "outputs": [],
   "source": [
    "x = torch.FloatTensor(8, 4)"
   ]
  },
  {
   "cell_type": "code",
   "execution_count": 18,
   "id": "03b332e0",
   "metadata": {},
   "outputs": [
    {
     "name": "stdout",
     "output_type": "stream",
     "text": [
      "torch.Size([3, 4])\n",
      "torch.Size([3, 4])\n",
      "torch.Size([2, 4])\n"
     ]
    }
   ],
   "source": [
    "chunks = x.chunk(3, dim=0)\n",
    "\n",
    "for c in chunks:\n",
    "    print(c.size())"
   ]
  },
  {
   "cell_type": "markdown",
   "id": "19604e6e",
   "metadata": {},
   "source": [
    "### index_select : Select elements by using dimension index"
   ]
  },
  {
   "cell_type": "code",
   "execution_count": 19,
   "id": "e0e943b2",
   "metadata": {},
   "outputs": [],
   "source": [
    "x = torch.FloatTensor([[[1, 1],\n",
    "                        [2, 2]],\n",
    "                       [[3, 3],\n",
    "                       [4, 4]],\n",
    "                       [[5, 5],\n",
    "                       [6, 6]]])"
   ]
  },
  {
   "cell_type": "code",
   "execution_count": 21,
   "id": "1d624737",
   "metadata": {},
   "outputs": [
    {
     "name": "stdout",
     "output_type": "stream",
     "text": [
      "torch.Size([3, 2, 2])\n"
     ]
    }
   ],
   "source": [
    "indice = torch.LongTensor([2, 1])\n",
    "\n",
    "print(x.size())"
   ]
  },
  {
   "cell_type": "code",
   "execution_count": 22,
   "id": "fc0bc8dc",
   "metadata": {},
   "outputs": [],
   "source": [
    "y = x.index_select(dim=0, index=indice)"
   ]
  },
  {
   "cell_type": "code",
   "execution_count": 23,
   "id": "0fb8714e",
   "metadata": {},
   "outputs": [
    {
     "name": "stdout",
     "output_type": "stream",
     "text": [
      "tensor([[[5., 5.],\n",
      "         [6., 6.]],\n",
      "\n",
      "        [[3., 3.],\n",
      "         [4., 4.]]])\n"
     ]
    }
   ],
   "source": [
    "print(y)"
   ]
  },
  {
   "cell_type": "markdown",
   "id": "189d0c32",
   "metadata": {},
   "source": [
    "### cat : Concatenation of multiple tensors in the list"
   ]
  },
  {
   "cell_type": "code",
   "execution_count": 24,
   "id": "ecdd536a",
   "metadata": {},
   "outputs": [],
   "source": [
    "x = torch.FloatTensor([[1,2,3],\n",
    "                      [4,5,6],\n",
    "                      [7,8,9]])"
   ]
  },
  {
   "cell_type": "code",
   "execution_count": 26,
   "id": "75580033",
   "metadata": {},
   "outputs": [
    {
     "name": "stdout",
     "output_type": "stream",
     "text": [
      "torch.Size([3, 3]) torch.Size([3, 3])\n"
     ]
    }
   ],
   "source": [
    "y = torch.FloatTensor([[10,11,12],\n",
    "                      [13,14,15],\n",
    "                      [16,17,18]])\n",
    "\n",
    "print(x.size(), y.size())"
   ]
  },
  {
   "cell_type": "code",
   "execution_count": 29,
   "id": "64c51f79",
   "metadata": {},
   "outputs": [
    {
     "name": "stdout",
     "output_type": "stream",
     "text": [
      "tensor([[ 1.,  2.,  3.],\n",
      "        [ 4.,  5.,  6.],\n",
      "        [ 7.,  8.,  9.],\n",
      "        [10., 11., 12.],\n",
      "        [13., 14., 15.],\n",
      "        [16., 17., 18.]])\n",
      "torch.Size([6, 3])\n"
     ]
    }
   ],
   "source": [
    "z = torch.cat([x, y], dim=0) #0번째 차원 \n",
    "print(z)\n",
    "print(z.size())"
   ]
  },
  {
   "cell_type": "code",
   "execution_count": 30,
   "id": "8d4cadf8",
   "metadata": {},
   "outputs": [
    {
     "name": "stdout",
     "output_type": "stream",
     "text": [
      "tensor([[ 1.,  2.,  3., 10., 11., 12.],\n",
      "        [ 4.,  5.,  6., 13., 14., 15.],\n",
      "        [ 7.,  8.,  9., 16., 17., 18.]])\n",
      "torch.Size([3, 6])\n"
     ]
    }
   ],
   "source": [
    "z = torch.cat([x, y], dim= -1) #마지막 번째 차원 \n",
    "print(z)\n",
    "print(z.size())"
   ]
  },
  {
   "cell_type": "markdown",
   "id": "987e196c",
   "metadata": {},
   "source": [
    "### stack : Staking of multiple tensors in the list"
   ]
  },
  {
   "cell_type": "code",
   "execution_count": 31,
   "id": "b3e720e9",
   "metadata": {},
   "outputs": [],
   "source": [
    "z = torch.stack([x, y])"
   ]
  },
  {
   "cell_type": "code",
   "execution_count": 32,
   "id": "81236e13",
   "metadata": {},
   "outputs": [
    {
     "name": "stdout",
     "output_type": "stream",
     "text": [
      "tensor([[[ 1.,  2.,  3.],\n",
      "         [ 4.,  5.,  6.],\n",
      "         [ 7.,  8.,  9.]],\n",
      "\n",
      "        [[10., 11., 12.],\n",
      "         [13., 14., 15.],\n",
      "         [16., 17., 18.]]])\n",
      "torch.Size([2, 3, 3])\n"
     ]
    }
   ],
   "source": [
    "print(z)\n",
    "print(z.size())"
   ]
  },
  {
   "cell_type": "markdown",
   "id": "52a1ba09",
   "metadata": {},
   "source": [
    "Or you can specify the dimension. Default is 0."
   ]
  },
  {
   "cell_type": "code",
   "execution_count": 36,
   "id": "b298bacd",
   "metadata": {},
   "outputs": [
    {
     "name": "stdout",
     "output_type": "stream",
     "text": [
      "tensor([[[ 1., 10.],\n",
      "         [ 2., 11.],\n",
      "         [ 3., 12.]],\n",
      "\n",
      "        [[ 4., 13.],\n",
      "         [ 5., 14.],\n",
      "         [ 6., 15.]],\n",
      "\n",
      "        [[ 7., 16.],\n",
      "         [ 8., 17.],\n",
      "         [ 9., 18.]]])\n",
      "torch.Size([3, 3, 2])\n"
     ]
    }
   ],
   "source": [
    "z = torch.stack([x, y], dim = -1) # (3,3,1)x(3,3,1)의 연산이 됨\n",
    "print(z)\n",
    "print(z.size())"
   ]
  },
  {
   "cell_type": "markdown",
   "id": "d999583b",
   "metadata": {},
   "source": [
    "### Implement 'stack' function by using 'cat'"
   ]
  },
  {
   "cell_type": "code",
   "execution_count": 37,
   "id": "317b8625",
   "metadata": {},
   "outputs": [],
   "source": [
    "# z = torch.stack([x,y])"
   ]
  },
  {
   "cell_type": "code",
   "execution_count": 39,
   "id": "c00c810b",
   "metadata": {},
   "outputs": [
    {
     "name": "stdout",
     "output_type": "stream",
     "text": [
      "tensor([[[ 1.,  2.,  3.],\n",
      "         [ 4.,  5.,  6.],\n",
      "         [ 7.,  8.,  9.]],\n",
      "\n",
      "        [[10., 11., 12.],\n",
      "         [13., 14., 15.],\n",
      "         [16., 17., 18.]]])\n",
      "torch.Size([2, 3, 3])\n"
     ]
    }
   ],
   "source": [
    "z = torch.cat([x.unsqueeze(0), y.unsqueeze(0)], dim = 0)\n",
    "print(z)\n",
    "print(z.size())"
   ]
  },
  {
   "cell_type": "markdown",
   "id": "f7bbdb6c",
   "metadata": {},
   "source": [
    "### Useful Trick : Merge results from iterations\n",
    "차원을 잘라서 함수에 넣고 차후에 다시 합칠 경우에 유용하게 쓰임"
   ]
  },
  {
   "cell_type": "code",
   "execution_count": 50,
   "id": "f6d8cb33",
   "metadata": {},
   "outputs": [],
   "source": [
    "result = []\n",
    "for i in range(5):\n",
    "    x = torch.FloatTensor(2, 2)\n",
    "    result += [x]"
   ]
  },
  {
   "cell_type": "code",
   "execution_count": 51,
   "id": "4a108e68",
   "metadata": {},
   "outputs": [
    {
     "data": {
      "text/plain": [
       "torch.Size([5, 2, 2])"
      ]
     },
     "execution_count": 51,
     "metadata": {},
     "output_type": "execute_result"
    }
   ],
   "source": [
    "\n",
    "result = torch.stack(result)\n",
    "result.size()"
   ]
  },
  {
   "cell_type": "code",
   "execution_count": null,
   "id": "284dfc5b",
   "metadata": {},
   "outputs": [],
   "source": []
  }
 ],
 "metadata": {
  "kernelspec": {
   "display_name": "Python 3",
   "language": "python",
   "name": "python3"
  },
  "language_info": {
   "codemirror_mode": {
    "name": "ipython",
    "version": 3
   },
   "file_extension": ".py",
   "mimetype": "text/x-python",
   "name": "python",
   "nbconvert_exporter": "python",
   "pygments_lexer": "ipython3",
   "version": "3.8.8"
  }
 },
 "nbformat": 4,
 "nbformat_minor": 5
}
