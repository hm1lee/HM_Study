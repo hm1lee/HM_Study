{
 "cells": [
  {
   "cell_type": "markdown",
   "id": "d9bc065a",
   "metadata": {},
   "source": [
    "# Pytorch Tensor"
   ]
  },
  {
   "cell_type": "code",
   "execution_count": 1,
   "id": "a5ccfeb4",
   "metadata": {},
   "outputs": [],
   "source": [
    "import torch"
   ]
  },
  {
   "cell_type": "markdown",
   "id": "8c84dfad",
   "metadata": {},
   "source": [
    "## Tensor Allocation"
   ]
  },
  {
   "cell_type": "code",
   "execution_count": 3,
   "id": "df153180",
   "metadata": {},
   "outputs": [
    {
     "data": {
      "text/plain": [
       "tensor([[1., 2.],\n",
       "        [3., 4.]])"
      ]
     },
     "execution_count": 3,
     "metadata": {},
     "output_type": "execute_result"
    }
   ],
   "source": [
    "#float tensor 선언 (가장 많이 쓰임 / 32bit)\n",
    "ft = torch.FloatTensor([[1,2],\n",
    "                       [3,4]])\n",
    "ft"
   ]
  },
  {
   "cell_type": "code",
   "execution_count": 6,
   "id": "f6d9a103",
   "metadata": {},
   "outputs": [
    {
     "data": {
      "text/plain": [
       "tensor([[1, 2],\n",
       "        [3, 4]])"
      ]
     },
     "execution_count": 6,
     "metadata": {},
     "output_type": "execute_result"
    }
   ],
   "source": [
    "#long tensor 선언 (정수를 담는 tensor)\n",
    "#인덱스 값을 담을 때 많이 사용\n",
    "\n",
    "lt = torch.LongTensor([[1,2],\n",
    "                      [3,4]])\n",
    "\n",
    "lt"
   ]
  },
  {
   "cell_type": "code",
   "execution_count": 10,
   "id": "b9f657d1",
   "metadata": {},
   "outputs": [
    {
     "data": {
      "text/plain": [
       "tensor([[1, 0],\n",
       "        [0, 1]], dtype=torch.uint8)"
      ]
     },
     "execution_count": 10,
     "metadata": {},
     "output_type": "execute_result"
    }
   ],
   "source": [
    "#byte tensor 선언 (0,1을 담는) <-> True, False를 담는 boolean tensor도 있음\n",
    "\n",
    "bt = torch.ByteTensor([[1, 0],\n",
    "                      [0, 1]])\n",
    "bt"
   ]
  },
  {
   "cell_type": "code",
   "execution_count": 12,
   "id": "a7456e7d",
   "metadata": {},
   "outputs": [
    {
     "data": {
      "text/plain": [
       "tensor([[0., 0.],\n",
       "        [0., 0.],\n",
       "        [0., 0.]])"
      ]
     },
     "execution_count": 12,
     "metadata": {},
     "output_type": "execute_result"
    }
   ],
   "source": [
    "# 다르게 선언하는 방식\n",
    "# 값은 아무거나 랜덤하게 상관없지만, 사이즈는 일정했으면 좋겠다 !\n",
    "\n",
    "x = torch.FloatTensor(3, 2)\n",
    "x"
   ]
  },
  {
   "cell_type": "markdown",
   "id": "6c371c5a",
   "metadata": {},
   "source": [
    "## Numpy Compatibility \n",
    "#### 토치 장점 :  파이토치는 넘파이와 호환이 잘된다 "
   ]
  },
  {
   "cell_type": "code",
   "execution_count": 13,
   "id": "231cd049",
   "metadata": {},
   "outputs": [
    {
     "name": "stdout",
     "output_type": "stream",
     "text": [
      "[[1 2]\n",
      " [3 4]] <class 'numpy.ndarray'>\n"
     ]
    }
   ],
   "source": [
    "import numpy as np\n",
    "\n",
    "x = np.array([[1, 2],\n",
    "             [3, 4]])\n",
    "print(x, type(x))"
   ]
  },
  {
   "cell_type": "code",
   "execution_count": 15,
   "id": "6f3aa45a",
   "metadata": {},
   "outputs": [
    {
     "name": "stdout",
     "output_type": "stream",
     "text": [
      "tensor([[1, 2],\n",
      "        [3, 4]]) <class 'torch.Tensor'>\n"
     ]
    }
   ],
   "source": [
    "#from numpy to torch\n",
    "\n",
    "x = torch.from_numpy(x)\n",
    "print(x, type(x))"
   ]
  },
  {
   "cell_type": "code",
   "execution_count": 16,
   "id": "9e8c990d",
   "metadata": {},
   "outputs": [
    {
     "name": "stdout",
     "output_type": "stream",
     "text": [
      "[[1 2]\n",
      " [3 4]] <class 'numpy.ndarray'>\n"
     ]
    }
   ],
   "source": [
    "#from torch to numpy\n",
    "\n",
    "x = x.numpy()\n",
    "print(x, type(x))"
   ]
  },
  {
   "cell_type": "markdown",
   "id": "fb6ea979",
   "metadata": {},
   "source": [
    "## Tensor Type-casting\n",
    "\n",
    "- 주의 : 연산시 float끼리, long끼리 같은 형식끼리 연산해주어야 한다.\n",
    "- 형을 변환해주어야 할 때 어떻게?\n",
    "\n"
   ]
  },
  {
   "cell_type": "code",
   "execution_count": 22,
   "id": "8d637330",
   "metadata": {},
   "outputs": [
    {
     "data": {
      "text/plain": [
       "tensor([[1, 2],\n",
       "        [3, 4]])"
      ]
     },
     "execution_count": 22,
     "metadata": {},
     "output_type": "execute_result"
    }
   ],
   "source": [
    "ft.long()"
   ]
  },
  {
   "cell_type": "code",
   "execution_count": 23,
   "id": "ec1707f0",
   "metadata": {},
   "outputs": [
    {
     "data": {
      "text/plain": [
       "tensor([[1., 2.],\n",
       "        [3., 4.]])"
      ]
     },
     "execution_count": 23,
     "metadata": {},
     "output_type": "execute_result"
    }
   ],
   "source": [
    "ft.float()"
   ]
  },
  {
   "cell_type": "code",
   "execution_count": 24,
   "id": "18fc487f",
   "metadata": {},
   "outputs": [
    {
     "data": {
      "text/plain": [
       "tensor([1, 0], dtype=torch.uint8)"
      ]
     },
     "execution_count": 24,
     "metadata": {},
     "output_type": "execute_result"
    }
   ],
   "source": [
    "#Byte Tensor로 형변환\n",
    "\n",
    "torch.FloatTensor([1, 0]).byte()"
   ]
  },
  {
   "cell_type": "markdown",
   "id": "0b37bf80",
   "metadata": {},
   "source": [
    "## Get Shape"
   ]
  },
  {
   "cell_type": "code",
   "execution_count": 25,
   "id": "c19c2576",
   "metadata": {},
   "outputs": [],
   "source": [
    "x = torch.FloatTensor([[[1, 2],\n",
    "                        [3, 4]],\n",
    "                       [[5, 6],\n",
    "                        [7, 8]],\n",
    "                       [[9, 10],\n",
    "                        [11, 12]]])"
   ]
  },
  {
   "cell_type": "code",
   "execution_count": 26,
   "id": "654b6272",
   "metadata": {},
   "outputs": [
    {
     "data": {
      "text/plain": [
       "tensor([[[ 1.,  2.],\n",
       "         [ 3.,  4.]],\n",
       "\n",
       "        [[ 5.,  6.],\n",
       "         [ 7.,  8.]],\n",
       "\n",
       "        [[ 9., 10.],\n",
       "         [11., 12.]]])"
      ]
     },
     "execution_count": 26,
     "metadata": {},
     "output_type": "execute_result"
    }
   ],
   "source": [
    "x"
   ]
  },
  {
   "cell_type": "code",
   "execution_count": 32,
   "id": "297ab310",
   "metadata": {},
   "outputs": [
    {
     "name": "stdout",
     "output_type": "stream",
     "text": [
      "torch.Size([3, 2, 2])\n",
      "torch.Size([3, 2, 2])\n"
     ]
    }
   ],
   "source": [
    "# 내가 만든 tensor의 사이즈 확인 (get number of dimensions in the tensor)\n",
    "\n",
    "print(x.size())\n",
    "print(x.shape)"
   ]
  },
  {
   "cell_type": "code",
   "execution_count": 34,
   "id": "832632cc",
   "metadata": {},
   "outputs": [
    {
     "name": "stdout",
     "output_type": "stream",
     "text": [
      "3\n",
      "3\n"
     ]
    }
   ],
   "source": [
    "# dimensions 개수\n",
    "print(x.dim())\n",
    "print(len(x.size()))"
   ]
  },
  {
   "cell_type": "code",
   "execution_count": 36,
   "id": "feef0d9e",
   "metadata": {},
   "outputs": [
    {
     "name": "stdout",
     "output_type": "stream",
     "text": [
      "2\n",
      "2\n"
     ]
    }
   ],
   "source": [
    "# 특정 dimensions 개수 확인\n",
    "print(x.size(1))\n",
    "print(x.shape[1])"
   ]
  },
  {
   "cell_type": "code",
   "execution_count": 37,
   "id": "4cba64f7",
   "metadata": {},
   "outputs": [
    {
     "name": "stdout",
     "output_type": "stream",
     "text": [
      "2\n",
      "2\n"
     ]
    }
   ],
   "source": [
    "# 마지막 차원을 알고 싶다면?\n",
    "print(x.size(-1))\n",
    "print(x.shape[-1])"
   ]
  },
  {
   "cell_type": "code",
   "execution_count": null,
   "id": "8349aec8",
   "metadata": {},
   "outputs": [],
   "source": []
  }
 ],
 "metadata": {
  "kernelspec": {
   "display_name": "Python 3",
   "language": "python",
   "name": "python3"
  },
  "language_info": {
   "codemirror_mode": {
    "name": "ipython",
    "version": 3
   },
   "file_extension": ".py",
   "mimetype": "text/x-python",
   "name": "python",
   "nbconvert_exporter": "python",
   "pygments_lexer": "ipython3",
   "version": "3.8.8"
  }
 },
 "nbformat": 4,
 "nbformat_minor": 5
}
